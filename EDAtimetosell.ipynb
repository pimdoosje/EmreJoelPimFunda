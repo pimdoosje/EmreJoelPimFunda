{
 "cells": [
  {
   "cell_type": "markdown",
   "metadata": {},
   "source": [
    "# Exploratory Data Analysis for 'Time to sell'"
   ]
  },
  {
   "cell_type": "markdown",
   "metadata": {},
   "source": [
    "## Importing the dataset and libraries"
   ]
  },
  {
   "cell_type": "code",
   "execution_count": 1,
   "metadata": {},
   "outputs": [],
   "source": [
    "# Importing libraries\n",
    "import numpy as np\n",
    "import pandas as pd\n",
    "from datetime import date\n",
    "\n",
    "# Visualisation\n",
    "import plotly.express as px\n",
    "import seaborn as sns\n",
    "import matplotlib.pyplot as plt"
   ]
  },
  {
   "cell_type": "code",
   "execution_count": 2,
   "metadata": {},
   "outputs": [
    {
     "data": {
      "text/html": [
       "<div>\n",
       "<style scoped>\n",
       "    .dataframe tbody tr th:only-of-type {\n",
       "        vertical-align: middle;\n",
       "    }\n",
       "\n",
       "    .dataframe tbody tr th {\n",
       "        vertical-align: top;\n",
       "    }\n",
       "\n",
       "    .dataframe thead th {\n",
       "        text-align: right;\n",
       "    }\n",
       "</style>\n",
       "<table border=\"1\" class=\"dataframe\">\n",
       "  <thead>\n",
       "    <tr style=\"text-align: right;\">\n",
       "      <th></th>\n",
       "      <th>globalId</th>\n",
       "      <th>publicatieDatum</th>\n",
       "      <th>postcode</th>\n",
       "      <th>koopPrijs</th>\n",
       "      <th>volledigeOmschrijving</th>\n",
       "      <th>soortWoning</th>\n",
       "      <th>categorieObject</th>\n",
       "      <th>bouwjaar</th>\n",
       "      <th>indTuin</th>\n",
       "      <th>perceelOppervlakte</th>\n",
       "      <th>kantoor_naam_MD5hash</th>\n",
       "      <th>aantalKamers</th>\n",
       "      <th>aantalBadkamers</th>\n",
       "      <th>energielabelKlasse</th>\n",
       "      <th>globalId.1</th>\n",
       "      <th>oppervlakte</th>\n",
       "      <th>datum_ondertekening</th>\n",
       "    </tr>\n",
       "  </thead>\n",
       "  <tbody>\n",
       "    <tr>\n",
       "      <th>0</th>\n",
       "      <td>4388064</td>\n",
       "      <td>2018-07-31</td>\n",
       "      <td>1774PG</td>\n",
       "      <td>139000.0</td>\n",
       "      <td>Ruimte, vrijheid, en altijd het water en de we...</td>\n",
       "      <td>&lt;{woonboot}&gt; &lt;{vrijstaande woning}&gt;</td>\n",
       "      <td>&lt;{Woonhuis}&gt;</td>\n",
       "      <td>1971-1980</td>\n",
       "      <td>1</td>\n",
       "      <td>NaN</td>\n",
       "      <td>09F114F5C5EC061F6230349892132149</td>\n",
       "      <td>3</td>\n",
       "      <td>NaN</td>\n",
       "      <td>NaN</td>\n",
       "      <td>4388064</td>\n",
       "      <td>62</td>\n",
       "      <td>2018-11-12</td>\n",
       "    </tr>\n",
       "    <tr>\n",
       "      <th>1</th>\n",
       "      <td>4388200</td>\n",
       "      <td>2018-09-24</td>\n",
       "      <td>7481LK</td>\n",
       "      <td>209000.0</td>\n",
       "      <td>Verrassend ruime tussenwoning nabij het centru...</td>\n",
       "      <td>&lt;{eengezinswoning}&gt; &lt;{tussenwoning}&gt;</td>\n",
       "      <td>&lt;{Woonhuis}&gt;</td>\n",
       "      <td>1980</td>\n",
       "      <td>1</td>\n",
       "      <td>148.0</td>\n",
       "      <td>6A91BF7DB06A8DF2C9A89064F28571E7</td>\n",
       "      <td>5</td>\n",
       "      <td>1.0</td>\n",
       "      <td>B</td>\n",
       "      <td>4388200</td>\n",
       "      <td>136</td>\n",
       "      <td>2018-08-30</td>\n",
       "    </tr>\n",
       "    <tr>\n",
       "      <th>2</th>\n",
       "      <td>4399344</td>\n",
       "      <td>2018-08-02</td>\n",
       "      <td>1068MS</td>\n",
       "      <td>267500.0</td>\n",
       "      <td>- ENGLISH TRANSLATION - \\n\\nOn the 21st of Sep...</td>\n",
       "      <td>&lt;{tussenverdieping}&gt; (&lt;{appartement}&gt;)</td>\n",
       "      <td>&lt;{Appartement}&gt;</td>\n",
       "      <td>2001-2010</td>\n",
       "      <td>0</td>\n",
       "      <td>NaN</td>\n",
       "      <td>E983FEDC63D87BF61AE952D181C8FD17</td>\n",
       "      <td>3</td>\n",
       "      <td>NaN</td>\n",
       "      <td>NaN</td>\n",
       "      <td>4399344</td>\n",
       "      <td>70</td>\n",
       "      <td>2018-11-23</td>\n",
       "    </tr>\n",
       "    <tr>\n",
       "      <th>3</th>\n",
       "      <td>4400638</td>\n",
       "      <td>2018-08-04</td>\n",
       "      <td>5628EN</td>\n",
       "      <td>349000.0</td>\n",
       "      <td>Wonen in een zeer royaal bemeten geschakelde 2...</td>\n",
       "      <td>&lt;{eengezinswoning}&gt; &lt;{geschakelde 2-onder-1-ka...</td>\n",
       "      <td>&lt;{Woonhuis}&gt;</td>\n",
       "      <td>1973</td>\n",
       "      <td>1</td>\n",
       "      <td>244.0</td>\n",
       "      <td>02BC26608B8B1A0888D3612AC7A5DB5C</td>\n",
       "      <td>5</td>\n",
       "      <td>NaN</td>\n",
       "      <td>NaN</td>\n",
       "      <td>4400638</td>\n",
       "      <td>144</td>\n",
       "      <td>2018-12-14</td>\n",
       "    </tr>\n",
       "    <tr>\n",
       "      <th>4</th>\n",
       "      <td>4401765</td>\n",
       "      <td>2018-08-05</td>\n",
       "      <td>7731TV</td>\n",
       "      <td>495000.0</td>\n",
       "      <td>Landgoed Junne is een eeuwenoud landgoed en li...</td>\n",
       "      <td>&lt;{woonboerderij}&gt; &lt;{vrijstaande woning}&gt;</td>\n",
       "      <td>&lt;{Woonhuis}&gt;</td>\n",
       "      <td>1900</td>\n",
       "      <td>0</td>\n",
       "      <td>4500.0</td>\n",
       "      <td>F56B2705CE24B8D78A68481ED1B276CB</td>\n",
       "      <td>8</td>\n",
       "      <td>1.0</td>\n",
       "      <td>NaN</td>\n",
       "      <td>4401765</td>\n",
       "      <td>323</td>\n",
       "      <td>2018-12-06</td>\n",
       "    </tr>\n",
       "  </tbody>\n",
       "</table>\n",
       "</div>"
      ],
      "text/plain": [
       "   globalId publicatieDatum postcode  koopPrijs  \\\n",
       "0   4388064      2018-07-31   1774PG   139000.0   \n",
       "1   4388200      2018-09-24   7481LK   209000.0   \n",
       "2   4399344      2018-08-02   1068MS   267500.0   \n",
       "3   4400638      2018-08-04   5628EN   349000.0   \n",
       "4   4401765      2018-08-05   7731TV   495000.0   \n",
       "\n",
       "                               volledigeOmschrijving  \\\n",
       "0  Ruimte, vrijheid, en altijd het water en de we...   \n",
       "1  Verrassend ruime tussenwoning nabij het centru...   \n",
       "2  - ENGLISH TRANSLATION - \\n\\nOn the 21st of Sep...   \n",
       "3  Wonen in een zeer royaal bemeten geschakelde 2...   \n",
       "4  Landgoed Junne is een eeuwenoud landgoed en li...   \n",
       "\n",
       "                                         soortWoning  categorieObject  \\\n",
       "0                <{woonboot}> <{vrijstaande woning}>     <{Woonhuis}>   \n",
       "1               <{eengezinswoning}> <{tussenwoning}>     <{Woonhuis}>   \n",
       "2             <{tussenverdieping}> (<{appartement}>)  <{Appartement}>   \n",
       "3  <{eengezinswoning}> <{geschakelde 2-onder-1-ka...     <{Woonhuis}>   \n",
       "4           <{woonboerderij}> <{vrijstaande woning}>     <{Woonhuis}>   \n",
       "\n",
       "    bouwjaar  indTuin  perceelOppervlakte              kantoor_naam_MD5hash  \\\n",
       "0  1971-1980        1                 NaN  09F114F5C5EC061F6230349892132149   \n",
       "1       1980        1               148.0  6A91BF7DB06A8DF2C9A89064F28571E7   \n",
       "2  2001-2010        0                 NaN  E983FEDC63D87BF61AE952D181C8FD17   \n",
       "3       1973        1               244.0  02BC26608B8B1A0888D3612AC7A5DB5C   \n",
       "4       1900        0              4500.0  F56B2705CE24B8D78A68481ED1B276CB   \n",
       "\n",
       "   aantalKamers  aantalBadkamers energielabelKlasse  globalId.1  oppervlakte  \\\n",
       "0             3              NaN                NaN     4388064           62   \n",
       "1             5              1.0                  B     4388200          136   \n",
       "2             3              NaN                NaN     4399344           70   \n",
       "3             5              NaN                NaN     4400638          144   \n",
       "4             8              1.0                NaN     4401765          323   \n",
       "\n",
       "  datum_ondertekening  \n",
       "0          2018-11-12  \n",
       "1          2018-08-30  \n",
       "2          2018-11-23  \n",
       "3          2018-12-14  \n",
       "4          2018-12-06  "
      ]
     },
     "execution_count": 2,
     "metadata": {},
     "output_type": "execute_result"
    }
   ],
   "source": [
    "# importing file and create a dataframe\n",
    "df_original = pd.read_csv('housing_data.csv')\n",
    "# Show first 5 rows\n",
    "df_original.head()"
   ]
  },
  {
   "cell_type": "code",
   "execution_count": 3,
   "metadata": {},
   "outputs": [],
   "source": [
    "# Create a copy to work in\n",
    "df = df_original.copy()"
   ]
  },
  {
   "cell_type": "markdown",
   "metadata": {},
   "source": [
    " Preparing the data for EDA"
   ]
  },
  {
   "cell_type": "code",
   "execution_count": 4,
   "metadata": {},
   "outputs": [],
   "source": [
    "# Change the data types into date\n",
    "df[\"publicatieDatum\"] = pd.to_datetime(df[\"publicatieDatum\"]).dt.date\n",
    "df[\"datum_ondertekening\"] = pd.to_datetime(df[\"datum_ondertekening\"]).dt.date"
   ]
  },
  {
   "cell_type": "markdown",
   "metadata": {},
   "source": [
    "Adding the 'Time to sell' column \n",
    "and removing the unusable columns and rows"
   ]
  },
  {
   "cell_type": "code",
   "execution_count": 5,
   "metadata": {},
   "outputs": [
    {
     "data": {
      "text/html": [
       "<div>\n",
       "<style scoped>\n",
       "    .dataframe tbody tr th:only-of-type {\n",
       "        vertical-align: middle;\n",
       "    }\n",
       "\n",
       "    .dataframe tbody tr th {\n",
       "        vertical-align: top;\n",
       "    }\n",
       "\n",
       "    .dataframe thead th {\n",
       "        text-align: right;\n",
       "    }\n",
       "</style>\n",
       "<table border=\"1\" class=\"dataframe\">\n",
       "  <thead>\n",
       "    <tr style=\"text-align: right;\">\n",
       "      <th></th>\n",
       "      <th>publicatieDatum</th>\n",
       "      <th>postcode</th>\n",
       "      <th>koopPrijs</th>\n",
       "      <th>volledigeOmschrijving</th>\n",
       "      <th>soortWoning</th>\n",
       "      <th>categorieObject</th>\n",
       "      <th>bouwjaar</th>\n",
       "      <th>indTuin</th>\n",
       "      <th>aantalKamers</th>\n",
       "      <th>oppervlakte</th>\n",
       "      <th>datum_ondertekening</th>\n",
       "      <th>Time_to_sell</th>\n",
       "    </tr>\n",
       "  </thead>\n",
       "  <tbody>\n",
       "    <tr>\n",
       "      <th>0</th>\n",
       "      <td>2018-07-31</td>\n",
       "      <td>1774PG</td>\n",
       "      <td>139000.0</td>\n",
       "      <td>Ruimte, vrijheid, en altijd het water en de we...</td>\n",
       "      <td>&lt;{woonboot}&gt; &lt;{vrijstaande woning}&gt;</td>\n",
       "      <td>&lt;{Woonhuis}&gt;</td>\n",
       "      <td>1971-1980</td>\n",
       "      <td>1</td>\n",
       "      <td>3</td>\n",
       "      <td>62</td>\n",
       "      <td>2018-11-12</td>\n",
       "      <td>104 days</td>\n",
       "    </tr>\n",
       "    <tr>\n",
       "      <th>1</th>\n",
       "      <td>2018-09-24</td>\n",
       "      <td>7481LK</td>\n",
       "      <td>209000.0</td>\n",
       "      <td>Verrassend ruime tussenwoning nabij het centru...</td>\n",
       "      <td>&lt;{eengezinswoning}&gt; &lt;{tussenwoning}&gt;</td>\n",
       "      <td>&lt;{Woonhuis}&gt;</td>\n",
       "      <td>1980</td>\n",
       "      <td>1</td>\n",
       "      <td>5</td>\n",
       "      <td>136</td>\n",
       "      <td>2018-08-30</td>\n",
       "      <td>-25 days</td>\n",
       "    </tr>\n",
       "    <tr>\n",
       "      <th>2</th>\n",
       "      <td>2018-08-02</td>\n",
       "      <td>1068MS</td>\n",
       "      <td>267500.0</td>\n",
       "      <td>- ENGLISH TRANSLATION - \\n\\nOn the 21st of Sep...</td>\n",
       "      <td>&lt;{tussenverdieping}&gt; (&lt;{appartement}&gt;)</td>\n",
       "      <td>&lt;{Appartement}&gt;</td>\n",
       "      <td>2001-2010</td>\n",
       "      <td>0</td>\n",
       "      <td>3</td>\n",
       "      <td>70</td>\n",
       "      <td>2018-11-23</td>\n",
       "      <td>113 days</td>\n",
       "    </tr>\n",
       "    <tr>\n",
       "      <th>3</th>\n",
       "      <td>2018-08-04</td>\n",
       "      <td>5628EN</td>\n",
       "      <td>349000.0</td>\n",
       "      <td>Wonen in een zeer royaal bemeten geschakelde 2...</td>\n",
       "      <td>&lt;{eengezinswoning}&gt; &lt;{geschakelde 2-onder-1-ka...</td>\n",
       "      <td>&lt;{Woonhuis}&gt;</td>\n",
       "      <td>1973</td>\n",
       "      <td>1</td>\n",
       "      <td>5</td>\n",
       "      <td>144</td>\n",
       "      <td>2018-12-14</td>\n",
       "      <td>132 days</td>\n",
       "    </tr>\n",
       "    <tr>\n",
       "      <th>4</th>\n",
       "      <td>2018-08-05</td>\n",
       "      <td>7731TV</td>\n",
       "      <td>495000.0</td>\n",
       "      <td>Landgoed Junne is een eeuwenoud landgoed en li...</td>\n",
       "      <td>&lt;{woonboerderij}&gt; &lt;{vrijstaande woning}&gt;</td>\n",
       "      <td>&lt;{Woonhuis}&gt;</td>\n",
       "      <td>1900</td>\n",
       "      <td>0</td>\n",
       "      <td>8</td>\n",
       "      <td>323</td>\n",
       "      <td>2018-12-06</td>\n",
       "      <td>123 days</td>\n",
       "    </tr>\n",
       "  </tbody>\n",
       "</table>\n",
       "</div>"
      ],
      "text/plain": [
       "  publicatieDatum postcode  koopPrijs  \\\n",
       "0      2018-07-31   1774PG   139000.0   \n",
       "1      2018-09-24   7481LK   209000.0   \n",
       "2      2018-08-02   1068MS   267500.0   \n",
       "3      2018-08-04   5628EN   349000.0   \n",
       "4      2018-08-05   7731TV   495000.0   \n",
       "\n",
       "                               volledigeOmschrijving  \\\n",
       "0  Ruimte, vrijheid, en altijd het water en de we...   \n",
       "1  Verrassend ruime tussenwoning nabij het centru...   \n",
       "2  - ENGLISH TRANSLATION - \\n\\nOn the 21st of Sep...   \n",
       "3  Wonen in een zeer royaal bemeten geschakelde 2...   \n",
       "4  Landgoed Junne is een eeuwenoud landgoed en li...   \n",
       "\n",
       "                                         soortWoning  categorieObject  \\\n",
       "0                <{woonboot}> <{vrijstaande woning}>     <{Woonhuis}>   \n",
       "1               <{eengezinswoning}> <{tussenwoning}>     <{Woonhuis}>   \n",
       "2             <{tussenverdieping}> (<{appartement}>)  <{Appartement}>   \n",
       "3  <{eengezinswoning}> <{geschakelde 2-onder-1-ka...     <{Woonhuis}>   \n",
       "4           <{woonboerderij}> <{vrijstaande woning}>     <{Woonhuis}>   \n",
       "\n",
       "    bouwjaar  indTuin  aantalKamers  oppervlakte datum_ondertekening  \\\n",
       "0  1971-1980        1             3           62          2018-11-12   \n",
       "1       1980        1             5          136          2018-08-30   \n",
       "2  2001-2010        0             3           70          2018-11-23   \n",
       "3       1973        1             5          144          2018-12-14   \n",
       "4       1900        0             8          323          2018-12-06   \n",
       "\n",
       "  Time_to_sell  \n",
       "0     104 days  \n",
       "1     -25 days  \n",
       "2     113 days  \n",
       "3     132 days  \n",
       "4     123 days  "
      ]
     },
     "execution_count": 5,
     "metadata": {},
     "output_type": "execute_result"
    }
   ],
   "source": [
    "# Add a new column\n",
    "df['Time_to_sell'] = (df.datum_ondertekening - df.publicatieDatum)\n",
    "\n",
    "# Drop columns without use for this project and columns that do not have data for all columns/variables\n",
    "df = df.drop(['globalId', 'kantoor_naam_MD5hash', 'globalId.1', 'perceelOppervlakte', 'aantalBadkamers', 'energielabelKlasse' ], 1)\n",
    "\n",
    "# Drop rows with empty values (at the purchasing price)\n",
    "df = df.dropna()\n",
    "\n",
    "# Show new data frame\n",
    "df.head()"
   ]
  },
  {
   "cell_type": "code",
   "execution_count": 6,
   "metadata": {},
   "outputs": [
    {
     "name": "stdout",
     "output_type": "stream",
     "text": [
      "<class 'pandas.core.frame.DataFrame'>\n",
      "Int64Index: 207649 entries, 0 to 211616\n",
      "Data columns (total 12 columns):\n",
      " #   Column                 Non-Null Count   Dtype  \n",
      "---  ------                 --------------   -----  \n",
      " 0   publicatieDatum        207649 non-null  object \n",
      " 1   postcode               207649 non-null  object \n",
      " 2   koopPrijs              207649 non-null  float64\n",
      " 3   volledigeOmschrijving  207649 non-null  object \n",
      " 4   soortWoning            207649 non-null  object \n",
      " 5   categorieObject        207649 non-null  object \n",
      " 6   bouwjaar               207649 non-null  object \n",
      " 7   indTuin                207649 non-null  int64  \n",
      " 8   aantalKamers           207649 non-null  int64  \n",
      " 9   oppervlakte            207649 non-null  int64  \n",
      " 10  datum_ondertekening    207649 non-null  object \n",
      " 11  Time_to_sell           207649 non-null  int64  \n",
      "dtypes: float64(1), int64(4), object(7)\n",
      "memory usage: 20.6+ MB\n"
     ]
    }
   ],
   "source": [
    "# Time_to_sell needs to be changed into int64\n",
    "columns = ['Time_to_sell']\n",
    "for col in columns:\n",
    "    df[col] = df[col].astype('int64')\n",
    "    \n",
    "# Removing the instances where the selling date in before the posting date (this mistake is made on the Funda webpage)\n",
    "df = df.drop(df[df.Time_to_sell < 0].index)\n",
    "\n",
    "# Double check that it has worked\n",
    "df.info()"
   ]
  },
  {
   "cell_type": "code",
   "execution_count": 7,
   "metadata": {},
   "outputs": [],
   "source": [
    "# fixing soortwoning column\n",
    "\n",
    "def clean_soortwoning(x):\n",
    "    if \"vrijstaande\" in x: \n",
    "        return \"vrijstaande_woning\"\n",
    "    if \"appartement\" in x:\n",
    "        return \"appartement\"\n",
    "    if \"portiekflat\" in x:\n",
    "        return \"portiekflat\"\n",
    "    if \"eengezinswoning\" in x:\n",
    "        return \"eengezinswoning\"\n",
    "    if \"herenhuis\" in x:\n",
    "        return \"herenhuis\"\n",
    "    if \"bovenwoning\" in x:\n",
    "        return \"bovenwoning\"\n",
    "    if \"benedenwoning\" in x:\n",
    "        return \"benedenwoning\"\n",
    "    else: \n",
    "        return \"other\"\n",
    "\n",
    "df[\"soortWoning_cleaned\"] = df[\"soortWoning\"].apply(clean_soortwoning)"
   ]
  },
  {
   "cell_type": "code",
   "execution_count": 8,
   "metadata": {},
   "outputs": [
    {
     "name": "stderr",
     "output_type": "stream",
     "text": [
      "<ipython-input-8-c369f055cc9f>:4: SettingWithCopyWarning: \n",
      "A value is trying to be set on a copy of a slice from a DataFrame.\n",
      "Try using .loc[row_indexer,col_indexer] = value instead\n",
      "\n",
      "See the caveats in the documentation: https://pandas.pydata.org/pandas-docs/stable/user_guide/indexing.html#returning-a-view-versus-a-copy\n",
      "  postcode_df[\"postcode_index\"]= [x for x in range(postcode_df.shape[0])]\n"
     ]
    },
    {
     "data": {
      "text/html": [
       "<div>\n",
       "<style scoped>\n",
       "    .dataframe tbody tr th:only-of-type {\n",
       "        vertical-align: middle;\n",
       "    }\n",
       "\n",
       "    .dataframe tbody tr th {\n",
       "        vertical-align: top;\n",
       "    }\n",
       "\n",
       "    .dataframe thead th {\n",
       "        text-align: right;\n",
       "    }\n",
       "</style>\n",
       "<table border=\"1\" class=\"dataframe\">\n",
       "  <thead>\n",
       "    <tr style=\"text-align: right;\">\n",
       "      <th></th>\n",
       "      <th>postcode</th>\n",
       "      <th>postcode_index</th>\n",
       "    </tr>\n",
       "  </thead>\n",
       "  <tbody>\n",
       "    <tr>\n",
       "      <th>0</th>\n",
       "      <td>1774</td>\n",
       "      <td>0</td>\n",
       "    </tr>\n",
       "    <tr>\n",
       "      <th>2</th>\n",
       "      <td>1068</td>\n",
       "      <td>1</td>\n",
       "    </tr>\n",
       "    <tr>\n",
       "      <th>3</th>\n",
       "      <td>5628</td>\n",
       "      <td>2</td>\n",
       "    </tr>\n",
       "    <tr>\n",
       "      <th>4</th>\n",
       "      <td>7731</td>\n",
       "      <td>3</td>\n",
       "    </tr>\n",
       "    <tr>\n",
       "      <th>5</th>\n",
       "      <td>5971</td>\n",
       "      <td>4</td>\n",
       "    </tr>\n",
       "    <tr>\n",
       "      <th>...</th>\n",
       "      <td>...</td>\n",
       "      <td>...</td>\n",
       "    </tr>\n",
       "    <tr>\n",
       "      <th>211612</th>\n",
       "      <td>9791</td>\n",
       "      <td>207644</td>\n",
       "    </tr>\n",
       "    <tr>\n",
       "      <th>211613</th>\n",
       "      <td>6431</td>\n",
       "      <td>207645</td>\n",
       "    </tr>\n",
       "    <tr>\n",
       "      <th>211614</th>\n",
       "      <td>4051</td>\n",
       "      <td>207646</td>\n",
       "    </tr>\n",
       "    <tr>\n",
       "      <th>211615</th>\n",
       "      <td>4043</td>\n",
       "      <td>207647</td>\n",
       "    </tr>\n",
       "    <tr>\n",
       "      <th>211616</th>\n",
       "      <td>5036</td>\n",
       "      <td>207648</td>\n",
       "    </tr>\n",
       "  </tbody>\n",
       "</table>\n",
       "<p>207649 rows × 2 columns</p>\n",
       "</div>"
      ],
      "text/plain": [
       "       postcode  postcode_index\n",
       "0          1774               0\n",
       "2          1068               1\n",
       "3          5628               2\n",
       "4          7731               3\n",
       "5          5971               4\n",
       "...         ...             ...\n",
       "211612     9791          207644\n",
       "211613     6431          207645\n",
       "211614     4051          207646\n",
       "211615     4043          207647\n",
       "211616     5036          207648\n",
       "\n",
       "[207649 rows x 2 columns]"
      ]
     },
     "execution_count": 8,
     "metadata": {},
     "output_type": "execute_result"
    }
   ],
   "source": [
    "#getting only first 4 digits in postcode column \n",
    "#adding the postcode_index column\n",
    "\n",
    "df['postcode']=df['postcode'].str[0:4]\n",
    "postcode_df= df[[\"postcode\"]]\n",
    "\n",
    "postcode_df[\"postcode_index\"]= [x for x in range(postcode_df.shape[0])]\n",
    "df[\"postcode_prepared\"] = postcode_df[\"postcode_index\"]\n",
    "postcode_df"
   ]
  },
  {
   "cell_type": "code",
   "execution_count": 9,
   "metadata": {},
   "outputs": [],
   "source": [
    "#getting only first 4 digits in bouwjaar column \n",
    "\n",
    "df['bouwjaar']=df['bouwjaar'].str[0:4]"
   ]
  },
  {
   "cell_type": "code",
   "execution_count": 10,
   "metadata": {},
   "outputs": [],
   "source": [
    "# Drop Vo and Na values from bouwjaar\n",
    "df= df.drop(df[df.bouwjaar == '<{Vo'].index)\n",
    "df= df.drop(df[df.bouwjaar == '<{Na'].index)"
   ]
  },
  {
   "cell_type": "code",
   "execution_count": 11,
   "metadata": {},
   "outputs": [],
   "source": [
    "#Change bouwjaar type to int64\n",
    "\n",
    "columns = ['bouwjaar']\n",
    "for col in columns:\n",
    "    df[col] = df[col].astype('int64')"
   ]
  },
  {
   "cell_type": "code",
   "execution_count": 12,
   "metadata": {},
   "outputs": [],
   "source": [
    "# drop old columns, which are converted\n",
    "df = df.drop(['publicatieDatum', 'postcode', 'volledigeOmschrijving', 'soortWoning', 'categorieObject', 'datum_ondertekening' ], 1)"
   ]
  },
  {
   "cell_type": "code",
   "execution_count": 13,
   "metadata": {},
   "outputs": [
    {
     "data": {
      "text/html": [
       "<div>\n",
       "<style scoped>\n",
       "    .dataframe tbody tr th:only-of-type {\n",
       "        vertical-align: middle;\n",
       "    }\n",
       "\n",
       "    .dataframe tbody tr th {\n",
       "        vertical-align: top;\n",
       "    }\n",
       "\n",
       "    .dataframe thead th {\n",
       "        text-align: right;\n",
       "    }\n",
       "</style>\n",
       "<table border=\"1\" class=\"dataframe\">\n",
       "  <thead>\n",
       "    <tr style=\"text-align: right;\">\n",
       "      <th></th>\n",
       "      <th>koopPrijs</th>\n",
       "      <th>bouwjaar</th>\n",
       "      <th>indTuin</th>\n",
       "      <th>aantalKamers</th>\n",
       "      <th>oppervlakte</th>\n",
       "      <th>Time_to_sell</th>\n",
       "      <th>soortWoning_cleaned</th>\n",
       "      <th>postcode_prepared</th>\n",
       "    </tr>\n",
       "  </thead>\n",
       "  <tbody>\n",
       "    <tr>\n",
       "      <th>0</th>\n",
       "      <td>139000.0</td>\n",
       "      <td>1971</td>\n",
       "      <td>1</td>\n",
       "      <td>3</td>\n",
       "      <td>62</td>\n",
       "      <td>8985600000000000</td>\n",
       "      <td>vrijstaande_woning</td>\n",
       "      <td>0</td>\n",
       "    </tr>\n",
       "    <tr>\n",
       "      <th>2</th>\n",
       "      <td>267500.0</td>\n",
       "      <td>2001</td>\n",
       "      <td>0</td>\n",
       "      <td>3</td>\n",
       "      <td>70</td>\n",
       "      <td>9763200000000000</td>\n",
       "      <td>appartement</td>\n",
       "      <td>1</td>\n",
       "    </tr>\n",
       "    <tr>\n",
       "      <th>3</th>\n",
       "      <td>349000.0</td>\n",
       "      <td>1973</td>\n",
       "      <td>1</td>\n",
       "      <td>5</td>\n",
       "      <td>144</td>\n",
       "      <td>11404800000000000</td>\n",
       "      <td>eengezinswoning</td>\n",
       "      <td>2</td>\n",
       "    </tr>\n",
       "    <tr>\n",
       "      <th>4</th>\n",
       "      <td>495000.0</td>\n",
       "      <td>1900</td>\n",
       "      <td>0</td>\n",
       "      <td>8</td>\n",
       "      <td>323</td>\n",
       "      <td>10627200000000000</td>\n",
       "      <td>vrijstaande_woning</td>\n",
       "      <td>3</td>\n",
       "    </tr>\n",
       "    <tr>\n",
       "      <th>5</th>\n",
       "      <td>162500.0</td>\n",
       "      <td>1970</td>\n",
       "      <td>1</td>\n",
       "      <td>4</td>\n",
       "      <td>68</td>\n",
       "      <td>20995200000000000</td>\n",
       "      <td>eengezinswoning</td>\n",
       "      <td>4</td>\n",
       "    </tr>\n",
       "  </tbody>\n",
       "</table>\n",
       "</div>"
      ],
      "text/plain": [
       "   koopPrijs  bouwjaar  indTuin  aantalKamers  oppervlakte       Time_to_sell  \\\n",
       "0   139000.0      1971        1             3           62   8985600000000000   \n",
       "2   267500.0      2001        0             3           70   9763200000000000   \n",
       "3   349000.0      1973        1             5          144  11404800000000000   \n",
       "4   495000.0      1900        0             8          323  10627200000000000   \n",
       "5   162500.0      1970        1             4           68  20995200000000000   \n",
       "\n",
       "  soortWoning_cleaned  postcode_prepared  \n",
       "0  vrijstaande_woning                  0  \n",
       "2         appartement                  1  \n",
       "3     eengezinswoning                  2  \n",
       "4  vrijstaande_woning                  3  \n",
       "5     eengezinswoning                  4  "
      ]
     },
     "execution_count": 13,
     "metadata": {},
     "output_type": "execute_result"
    }
   ],
   "source": [
    "df.head()"
   ]
  },
  {
   "cell_type": "code",
   "execution_count": 14,
   "metadata": {},
   "outputs": [],
   "source": [
    "# It kept giving errors trying to save the df as a feather file, so it's saved as a csv-file\n",
    "df.to_csv('prepared_df.csv')"
   ]
  },
  {
   "cell_type": "markdown",
   "metadata": {},
   "source": [
    "Boxplot for Time to sell"
   ]
  },
  {
   "cell_type": "code",
   "execution_count": 21,
   "metadata": {},
   "outputs": [
    {
     "data": {
      "text/plain": [
       "<AxesSubplot:>"
      ]
     },
     "execution_count": 21,
     "metadata": {},
     "output_type": "execute_result"
    },
    {
     "data": {
      "image/png": "[encoded data removed]",
      "text/plain": [
       "<Figure size 432x288 with 1 Axes>"
      ]
     },
     "metadata": {
      "needs_background": "light"
     },
     "output_type": "display_data"
    }
   ],
   "source": [
    "plt.figure()\n",
    "\n",
    "plt.rcParams[\"figure.figsize\"] = [7.50, 3.50]\n",
    "plt.rcParams[\"figure.autolayout\"] = True\n",
    "\n",
    "df.boxplot(['Time_to_sell'])"
   ]
  },
  {
   "cell_type": "markdown",
   "metadata": {},
   "source": [
    "Distribution graph of time to sell\n"
   ]
  },
  {
   "cell_type": "code",
   "execution_count": 20,
   "metadata": {},
   "outputs": [
    {
     "data": {
      "text/plain": [
       "<function matplotlib.pyplot.show(close=None, block=None)>"
      ]
     },
     "execution_count": 20,
     "metadata": {},
     "output_type": "execute_result"
    },
    {
     "data": {
      "image/png": "[encoded data removed]",
      "text/plain": [
       "<Figure size 360x360 with 1 Axes>"
      ]
     },
     "metadata": {
      "needs_background": "light"
     },
     "output_type": "display_data"
    }
   ],
   "source": [
    "\n",
    "\n",
    "a_plot = sns.displot(df['Time_to_sell'])\n",
    "\n",
    "\n",
    "plt.show"
   ]
  },
  {
   "cell_type": "markdown",
   "metadata": {},
   "source": [
    "Heatmap\n"
   ]
  },
  {
   "cell_type": "code",
   "execution_count": 17,
   "metadata": {},
   "outputs": [
    {
     "name": "stdout",
     "output_type": "stream",
     "text": [
      "heatmap with correlations of dataframe\n",
      "AxesSubplot(0.125,0.125;0.62x0.755)\n"
     ]
    },
    {
     "data": {
      "image/png": "[encoded data removed]",
      "text/plain": [
       "<Figure size 720x720 with 2 Axes>"
      ]
     },
     "metadata": {
      "needs_background": "light"
     },
     "output_type": "display_data"
    }
   ],
   "source": [
    "#Check dataset on correlations through a heatmap\n",
    "plt.figure(figsize = (10, 10))       \n",
    "print('heatmap with correlations of dataframe')\n",
    "print(sns.heatmap(df.corr(),annot = True))"
   ]
  },
  {
   "cell_type": "code",
   "execution_count": null,
   "metadata": {},
   "outputs": [],
   "source": []
  }
 ],
 "metadata": {
  "interpreter": {
   "hash": "ca32d9c1d8aaefccf989343da9839faf31f5ab9f3899e123c61ac61727cdbfdf"
  },
  "kernelspec": {
   "display_name": "Python 3.8.8 64-bit ('base': conda)",
   "language": "python",
   "name": "python3"
  },
  "language_info": {
   "codemirror_mode": {
    "name": "ipython",
    "version": 3
   },
   "file_extension": ".py",
   "mimetype": "text/x-python",
   "name": "python",
   "nbconvert_exporter": "python",
   "pygments_lexer": "ipython3",
   "version": "3.8.8"
  },
  "orig_nbformat": 4
 },
 "nbformat": 4,
 "nbformat_minor": 2
}
