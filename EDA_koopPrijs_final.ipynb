{
 "cells": [
  {
   "cell_type": "markdown",
   "metadata": {},
   "source": [
    "# Exploratory Data Analysis for 'koopPrijs'"
   ]
  },
  {
   "cell_type": "markdown",
   "metadata": {},
   "source": [
    "This project is executed for the course of AI for Business, at the Amsterdam School of Applied Sciences in 2022. The purpose of the research is to to build and evaluate machine learning approaches to predict the price of a  house and the time to sale of a house. The dataset that is used to train and evaluate the models is scraped from the Dutch housing website Funda. In this notebook, the data will be explored and prepared for the machine learning models. The project is conducted and combined by Pim Doosje (500800438) and Joel Zelle (500763451)."
   ]
  },
  {
   "cell_type": "markdown",
   "metadata": {},
   "source": [
    "### Importing the dataset and libraries"
   ]
  },
  {
   "cell_type": "code",
   "execution_count": 37,
   "metadata": {},
   "outputs": [],
   "source": [
    "# Importing libraries\n",
    "import numpy as np\n",
    "import pandas as pd\n",
    "from datetime import date\n",
    "\n",
    "# Visualisation\n",
    "import plotly.express as px\n",
    "import seaborn as sns\n",
    "import matplotlib.pyplot as plt\n",
    "\n",
    "# Some additional libraries and plotting all code\n",
    "from IPython.core.interactiveshell import InteractiveShell\n",
    "InteractiveShell.ast_node_interactivity = \"all\" \n",
    "from IPython.core.display import HTML "
   ]
  },
  {
   "cell_type": "code",
   "execution_count": 38,
   "metadata": {},
   "outputs": [
    {
     "data": {
      "text/html": [
       "<div>\n",
       "<style scoped>\n",
       "    .dataframe tbody tr th:only-of-type {\n",
       "        vertical-align: middle;\n",
       "    }\n",
       "\n",
       "    .dataframe tbody tr th {\n",
       "        vertical-align: top;\n",
       "    }\n",
       "\n",
       "    .dataframe thead th {\n",
       "        text-align: right;\n",
       "    }\n",
       "</style>\n",
       "<table border=\"1\" class=\"dataframe\">\n",
       "  <thead>\n",
       "    <tr style=\"text-align: right;\">\n",
       "      <th></th>\n",
       "      <th>Unnamed: 0</th>\n",
       "      <th>key_0</th>\n",
       "      <th>id</th>\n",
       "      <th>description</th>\n",
       "      <th>main_topic</th>\n",
       "      <th>globalId</th>\n",
       "      <th>publicatieDatum</th>\n",
       "      <th>postcode</th>\n",
       "      <th>koopPrijs</th>\n",
       "      <th>volledigeOmschrijving</th>\n",
       "      <th>...</th>\n",
       "      <th>bouwjaar</th>\n",
       "      <th>indTuin</th>\n",
       "      <th>perceelOppervlakte</th>\n",
       "      <th>kantoor_naam_MD5hash</th>\n",
       "      <th>aantalKamers</th>\n",
       "      <th>aantalBadkamers</th>\n",
       "      <th>energielabelKlasse</th>\n",
       "      <th>globalId.1</th>\n",
       "      <th>oppervlakte</th>\n",
       "      <th>datum_ondertekening</th>\n",
       "    </tr>\n",
       "  </thead>\n",
       "  <tbody>\n",
       "    <tr>\n",
       "      <th>0</th>\n",
       "      <td>0</td>\n",
       "      <td>4388064</td>\n",
       "      <td>4388064</td>\n",
       "      <td>Ruimte, vrijheid, en altijd het water en de we...</td>\n",
       "      <td>Topic 10</td>\n",
       "      <td>4388064</td>\n",
       "      <td>2018-07-31</td>\n",
       "      <td>1774PG</td>\n",
       "      <td>139000.0</td>\n",
       "      <td>Ruimte, vrijheid, en altijd het water en de we...</td>\n",
       "      <td>...</td>\n",
       "      <td>1971-1980</td>\n",
       "      <td>1</td>\n",
       "      <td>NaN</td>\n",
       "      <td>09F114F5C5EC061F6230349892132149</td>\n",
       "      <td>3</td>\n",
       "      <td>NaN</td>\n",
       "      <td>NaN</td>\n",
       "      <td>4388064</td>\n",
       "      <td>62</td>\n",
       "      <td>2018-11-12</td>\n",
       "    </tr>\n",
       "    <tr>\n",
       "      <th>1</th>\n",
       "      <td>1</td>\n",
       "      <td>4388200</td>\n",
       "      <td>4388200</td>\n",
       "      <td>Verrassend ruime tussenwoning nabij het centru...</td>\n",
       "      <td>Topic 10</td>\n",
       "      <td>4388200</td>\n",
       "      <td>2018-09-24</td>\n",
       "      <td>7481LK</td>\n",
       "      <td>209000.0</td>\n",
       "      <td>Verrassend ruime tussenwoning nabij het centru...</td>\n",
       "      <td>...</td>\n",
       "      <td>1980</td>\n",
       "      <td>1</td>\n",
       "      <td>148.0</td>\n",
       "      <td>6A91BF7DB06A8DF2C9A89064F28571E7</td>\n",
       "      <td>5</td>\n",
       "      <td>1.0</td>\n",
       "      <td>B</td>\n",
       "      <td>4388200</td>\n",
       "      <td>136</td>\n",
       "      <td>2018-08-30</td>\n",
       "    </tr>\n",
       "    <tr>\n",
       "      <th>2</th>\n",
       "      <td>2</td>\n",
       "      <td>4399344</td>\n",
       "      <td>4399344</td>\n",
       "      <td>- ENGLISH TRANSLATION - \\n\\nOn the 21st of Sep...</td>\n",
       "      <td>Topic 2</td>\n",
       "      <td>4399344</td>\n",
       "      <td>2018-08-02</td>\n",
       "      <td>1068MS</td>\n",
       "      <td>267500.0</td>\n",
       "      <td>- ENGLISH TRANSLATION - \\n\\nOn the 21st of Sep...</td>\n",
       "      <td>...</td>\n",
       "      <td>2001-2010</td>\n",
       "      <td>0</td>\n",
       "      <td>NaN</td>\n",
       "      <td>E983FEDC63D87BF61AE952D181C8FD17</td>\n",
       "      <td>3</td>\n",
       "      <td>NaN</td>\n",
       "      <td>NaN</td>\n",
       "      <td>4399344</td>\n",
       "      <td>70</td>\n",
       "      <td>2018-11-23</td>\n",
       "    </tr>\n",
       "    <tr>\n",
       "      <th>3</th>\n",
       "      <td>3</td>\n",
       "      <td>4400638</td>\n",
       "      <td>4400638</td>\n",
       "      <td>Wonen in een zeer royaal bemeten geschakelde 2...</td>\n",
       "      <td>Topic 3</td>\n",
       "      <td>4400638</td>\n",
       "      <td>2018-08-04</td>\n",
       "      <td>5628EN</td>\n",
       "      <td>349000.0</td>\n",
       "      <td>Wonen in een zeer royaal bemeten geschakelde 2...</td>\n",
       "      <td>...</td>\n",
       "      <td>1973</td>\n",
       "      <td>1</td>\n",
       "      <td>244.0</td>\n",
       "      <td>02BC26608B8B1A0888D3612AC7A5DB5C</td>\n",
       "      <td>5</td>\n",
       "      <td>NaN</td>\n",
       "      <td>NaN</td>\n",
       "      <td>4400638</td>\n",
       "      <td>144</td>\n",
       "      <td>2018-12-14</td>\n",
       "    </tr>\n",
       "    <tr>\n",
       "      <th>4</th>\n",
       "      <td>4</td>\n",
       "      <td>4401765</td>\n",
       "      <td>4401765</td>\n",
       "      <td>Landgoed Junne is een eeuwenoud landgoed en li...</td>\n",
       "      <td>Topic 6</td>\n",
       "      <td>4401765</td>\n",
       "      <td>2018-08-05</td>\n",
       "      <td>7731TV</td>\n",
       "      <td>495000.0</td>\n",
       "      <td>Landgoed Junne is een eeuwenoud landgoed en li...</td>\n",
       "      <td>...</td>\n",
       "      <td>1900</td>\n",
       "      <td>0</td>\n",
       "      <td>4500.0</td>\n",
       "      <td>F56B2705CE24B8D78A68481ED1B276CB</td>\n",
       "      <td>8</td>\n",
       "      <td>1.0</td>\n",
       "      <td>NaN</td>\n",
       "      <td>4401765</td>\n",
       "      <td>323</td>\n",
       "      <td>2018-12-06</td>\n",
       "    </tr>\n",
       "  </tbody>\n",
       "</table>\n",
       "<p>5 rows × 22 columns</p>\n",
       "</div>"
      ],
      "text/plain": [
       "   Unnamed: 0    key_0       id  \\\n",
       "0           0  4388064  4388064   \n",
       "1           1  4388200  4388200   \n",
       "2           2  4399344  4399344   \n",
       "3           3  4400638  4400638   \n",
       "4           4  4401765  4401765   \n",
       "\n",
       "                                         description main_topic  globalId  \\\n",
       "0  Ruimte, vrijheid, en altijd het water en de we...   Topic 10   4388064   \n",
       "1  Verrassend ruime tussenwoning nabij het centru...   Topic 10   4388200   \n",
       "2  - ENGLISH TRANSLATION - \\n\\nOn the 21st of Sep...    Topic 2   4399344   \n",
       "3  Wonen in een zeer royaal bemeten geschakelde 2...    Topic 3   4400638   \n",
       "4  Landgoed Junne is een eeuwenoud landgoed en li...    Topic 6   4401765   \n",
       "\n",
       "  publicatieDatum postcode  koopPrijs  \\\n",
       "0      2018-07-31   1774PG   139000.0   \n",
       "1      2018-09-24   7481LK   209000.0   \n",
       "2      2018-08-02   1068MS   267500.0   \n",
       "3      2018-08-04   5628EN   349000.0   \n",
       "4      2018-08-05   7731TV   495000.0   \n",
       "\n",
       "                               volledigeOmschrijving  ...   bouwjaar indTuin  \\\n",
       "0  Ruimte, vrijheid, en altijd het water en de we...  ...  1971-1980       1   \n",
       "1  Verrassend ruime tussenwoning nabij het centru...  ...       1980       1   \n",
       "2  - ENGLISH TRANSLATION - \\n\\nOn the 21st of Sep...  ...  2001-2010       0   \n",
       "3  Wonen in een zeer royaal bemeten geschakelde 2...  ...       1973       1   \n",
       "4  Landgoed Junne is een eeuwenoud landgoed en li...  ...       1900       0   \n",
       "\n",
       "  perceelOppervlakte              kantoor_naam_MD5hash  aantalKamers  \\\n",
       "0                NaN  09F114F5C5EC061F6230349892132149             3   \n",
       "1              148.0  6A91BF7DB06A8DF2C9A89064F28571E7             5   \n",
       "2                NaN  E983FEDC63D87BF61AE952D181C8FD17             3   \n",
       "3              244.0  02BC26608B8B1A0888D3612AC7A5DB5C             5   \n",
       "4             4500.0  F56B2705CE24B8D78A68481ED1B276CB             8   \n",
       "\n",
       "  aantalBadkamers  energielabelKlasse  globalId.1 oppervlakte  \\\n",
       "0             NaN                 NaN     4388064          62   \n",
       "1             1.0                   B     4388200         136   \n",
       "2             NaN                 NaN     4399344          70   \n",
       "3             NaN                 NaN     4400638         144   \n",
       "4             1.0                 NaN     4401765         323   \n",
       "\n",
       "   datum_ondertekening  \n",
       "0           2018-11-12  \n",
       "1           2018-08-30  \n",
       "2           2018-11-23  \n",
       "3           2018-12-14  \n",
       "4           2018-12-06  \n",
       "\n",
       "[5 rows x 22 columns]"
      ]
     },
     "execution_count": 38,
     "metadata": {},
     "output_type": "execute_result"
    }
   ],
   "source": [
    "# importing file and create a dataframe\n",
    "df_original = pd.read_csv('housing_topic_modelling.csv')\n",
    "# Show first 5 rows\n",
    "df_original.head()"
   ]
  },
  {
   "cell_type": "code",
   "execution_count": 39,
   "metadata": {},
   "outputs": [],
   "source": [
    "# Create a copy to work in\n",
    "df = df_original.copy()"
   ]
  },
  {
   "cell_type": "markdown",
   "metadata": {},
   "source": [
    "### Taking a look at the data"
   ]
  },
  {
   "cell_type": "code",
   "execution_count": 40,
   "metadata": {},
   "outputs": [
    {
     "name": "stdout",
     "output_type": "stream",
     "text": [
      "<class 'pandas.core.frame.DataFrame'>\n",
      "RangeIndex: 211617 entries, 0 to 211616\n",
      "Data columns (total 22 columns):\n",
      " #   Column                 Non-Null Count   Dtype  \n",
      "---  ------                 --------------   -----  \n",
      " 0   Unnamed: 0             211617 non-null  int64  \n",
      " 1   key_0                  211617 non-null  int64  \n",
      " 2   id                     211617 non-null  int64  \n",
      " 3   description            211617 non-null  object \n",
      " 4   main_topic             211617 non-null  object \n",
      " 5   globalId               211617 non-null  int64  \n",
      " 6   publicatieDatum        211617 non-null  object \n",
      " 7   postcode               211617 non-null  object \n",
      " 8   koopPrijs              210876 non-null  float64\n",
      " 9   volledigeOmschrijving  211617 non-null  object \n",
      " 10  soortWoning            211617 non-null  object \n",
      " 11  categorieObject        211617 non-null  object \n",
      " 12  bouwjaar               211617 non-null  object \n",
      " 13  indTuin                211617 non-null  int64  \n",
      " 14  perceelOppervlakte     144376 non-null  float64\n",
      " 15  kantoor_naam_MD5hash   211617 non-null  object \n",
      " 16  aantalKamers           211617 non-null  int64  \n",
      " 17  aantalBadkamers        150469 non-null  float64\n",
      " 18  energielabelKlasse     88862 non-null   object \n",
      " 19  globalId.1             211617 non-null  int64  \n",
      " 20  oppervlakte            211617 non-null  int64  \n",
      " 21  datum_ondertekening    211617 non-null  object \n",
      "dtypes: float64(3), int64(8), object(11)\n",
      "memory usage: 35.5+ MB\n"
     ]
    }
   ],
   "source": [
    "df.info()"
   ]
  },
  {
   "cell_type": "code",
   "execution_count": 41,
   "metadata": {},
   "outputs": [
    {
     "name": "stdout",
     "output_type": "stream",
     "text": [
      "There are 211617 rows and 22 columns in the dataset\n"
     ]
    }
   ],
   "source": [
    "# Printing out the amount of rows and columns, and storing the original amount in variable\n",
    "funda_df_allrows = df.shape[0]\n",
    "funda_df_allcolumns = df.shape[1]\n",
    "print(\"There are {} rows and {} columns in the dataset\".format(df.shape[0], df.shape[1]))"
   ]
  },
  {
   "cell_type": "markdown",
   "metadata": {},
   "source": [
    "The df.info function is used to give an overview of all independent variables, which are the columns in the data frame. Per variable, the number of null values is noted and the amount of data type. The number of null values is important because null values have a negative impact on the reliability of the model. From this table it can be concluded that:\n",
    "- Energy label has 88.863 non null values\n",
    "- Surface area has 144.376 non null values\n",
    "- Number of bathrooms has 150.469 non null values\n",
    "- Purchase price has 210.876 non null values\n",
    "- The other 17 variables have no null values\n",
    "\n",
    "We have decided to drop the energy label, surface area and number of bathrooms because these variables show a high frequency of null values. Another solution to dealing with null values is replacing these values with for example the average value of that variable. We have decided to drop the columns because there are enough other variables to create our machine learning models.\n"
   ]
  },
  {
   "cell_type": "code",
   "execution_count": 42,
   "metadata": {},
   "outputs": [
    {
     "name": "stderr",
     "output_type": "stream",
     "text": [
      "C:\\Users\\pimdo\\AppData\\Local\\Temp/ipykernel_2364/3003168237.py:3: FutureWarning: In a future version of pandas all arguments of DataFrame.drop except for the argument 'labels' will be keyword-only\n",
      "  df = df.drop(['globalId', 'kantoor_naam_MD5hash', 'globalId.1', 'perceelOppervlakte', 'aantalBadkamers', 'energielabelKlasse', 'key_0', 'id', 'description', 'volledigeOmschrijving' ], 1)\n"
     ]
    }
   ],
   "source": [
    "# Drop columns without use for this project and columns that do not have data for all columns/variables\n",
    "# Columns 'aantalBadkamers' and 'energielabelKlasse' are dropped because they contain too many NaN values.\n",
    "df = df.drop(['globalId', 'kantoor_naam_MD5hash', 'globalId.1', 'perceelOppervlakte', 'aantalBadkamers', 'energielabelKlasse', 'key_0', 'id', 'description', 'volledigeOmschrijving' ], 1)\n",
    "\n",
    "# Drop rows with empty values (at the purchasing price)\n",
    "df = df.dropna()\n"
   ]
  },
  {
   "cell_type": "markdown",
   "metadata": {},
   "source": [
    "### Preparing the data for the ML models"
   ]
  },
  {
   "cell_type": "markdown",
   "metadata": {},
   "source": [
    "1.  Preparing and calculating the time to sell"
   ]
  },
  {
   "cell_type": "code",
   "execution_count": 43,
   "metadata": {},
   "outputs": [],
   "source": [
    "# Change the data types into date, so these can be calculated with\n",
    "df[\"publicatieDatum\"] = pd.to_datetime(df[\"publicatieDatum\"]).dt.date\n",
    "df[\"datum_ondertekening\"] = pd.to_datetime(df[\"datum_ondertekening\"]).dt.date\n",
    "\n",
    "# defining a new time to sell column, to calculate the difference between posting and selling date. This results in the days to sale\n",
    "df['Time_to_sell'] = (df['datum_ondertekening'] - df['publicatieDatum']).dt.days\n",
    "\n",
    "# Time to sell needs to be changed into int64\n",
    "columns = ['Time_to_sell']\n",
    "for col in columns:\n",
    "    df[col] = df[col].astype('int64')\n",
    "    \n",
    "# Removing the instances where the selling date in before the posting date (this mistake is made on the Funda webpage)\n",
    "df = df.drop(df[df.Time_to_sell < 1].index)\n"
   ]
  },
  {
   "cell_type": "markdown",
   "metadata": {},
   "source": [
    "2. Grouping the type of houses together to keep a managing amount of variables when dummifying\n"
   ]
  },
  {
   "cell_type": "code",
   "execution_count": 44,
   "metadata": {},
   "outputs": [],
   "source": [
    "# fixing soortwoning column\n",
    "\n",
    "def clean_soortwoning(x):\n",
    "    if \"vrijstaande\" in x: \n",
    "        return \"vrijstaande_woning\"\n",
    "    if \"appartement\" in x:\n",
    "        return \"appartement\"\n",
    "    if \"portiekflat\" in x:\n",
    "        return \"portiekflat\"\n",
    "    if \"eengezinswoning\" in x:\n",
    "        return \"eengezinswoning\"\n",
    "    if \"herenhuis\" in x:\n",
    "        return \"herenhuis\"\n",
    "    if \"bovenwoning\" in x:\n",
    "        return \"bovenwoning\"\n",
    "    if \"benedenwoning\" in x:\n",
    "        return \"benedenwoning\"\n",
    "    else: \n",
    "        return \"other\"\n",
    "\n",
    "df[\"soortWoning_cleaned\"] = df[\"soortWoning\"].apply(clean_soortwoning)"
   ]
  },
  {
   "cell_type": "markdown",
   "metadata": {},
   "source": [
    "3. Preparing the zipcode by removing the letters from the zip code\n"
   ]
  },
  {
   "cell_type": "code",
   "execution_count": 45,
   "metadata": {},
   "outputs": [
    {
     "name": "stderr",
     "output_type": "stream",
     "text": [
      "C:\\Users\\pimdo\\AppData\\Local\\Temp/ipykernel_2364/2346335774.py:5: SettingWithCopyWarning: \n",
      "A value is trying to be set on a copy of a slice from a DataFrame.\n",
      "Try using .loc[row_indexer,col_indexer] = value instead\n",
      "\n",
      "See the caveats in the documentation: https://pandas.pydata.org/pandas-docs/stable/user_guide/indexing.html#returning-a-view-versus-a-copy\n",
      "  postcode_df[\"postcode_index\"]= [x for x in range(postcode_df.shape[0])]\n"
     ]
    },
    {
     "data": {
      "text/html": [
       "<div>\n",
       "<style scoped>\n",
       "    .dataframe tbody tr th:only-of-type {\n",
       "        vertical-align: middle;\n",
       "    }\n",
       "\n",
       "    .dataframe tbody tr th {\n",
       "        vertical-align: top;\n",
       "    }\n",
       "\n",
       "    .dataframe thead th {\n",
       "        text-align: right;\n",
       "    }\n",
       "</style>\n",
       "<table border=\"1\" class=\"dataframe\">\n",
       "  <thead>\n",
       "    <tr style=\"text-align: right;\">\n",
       "      <th></th>\n",
       "      <th>postcode</th>\n",
       "      <th>postcode_index</th>\n",
       "    </tr>\n",
       "  </thead>\n",
       "  <tbody>\n",
       "    <tr>\n",
       "      <th>0</th>\n",
       "      <td>1774</td>\n",
       "      <td>0</td>\n",
       "    </tr>\n",
       "    <tr>\n",
       "      <th>2</th>\n",
       "      <td>1068</td>\n",
       "      <td>1</td>\n",
       "    </tr>\n",
       "    <tr>\n",
       "      <th>3</th>\n",
       "      <td>5628</td>\n",
       "      <td>2</td>\n",
       "    </tr>\n",
       "    <tr>\n",
       "      <th>4</th>\n",
       "      <td>7731</td>\n",
       "      <td>3</td>\n",
       "    </tr>\n",
       "    <tr>\n",
       "      <th>5</th>\n",
       "      <td>5971</td>\n",
       "      <td>4</td>\n",
       "    </tr>\n",
       "    <tr>\n",
       "      <th>...</th>\n",
       "      <td>...</td>\n",
       "      <td>...</td>\n",
       "    </tr>\n",
       "    <tr>\n",
       "      <th>211612</th>\n",
       "      <td>9791</td>\n",
       "      <td>205679</td>\n",
       "    </tr>\n",
       "    <tr>\n",
       "      <th>211613</th>\n",
       "      <td>6431</td>\n",
       "      <td>205680</td>\n",
       "    </tr>\n",
       "    <tr>\n",
       "      <th>211614</th>\n",
       "      <td>4051</td>\n",
       "      <td>205681</td>\n",
       "    </tr>\n",
       "    <tr>\n",
       "      <th>211615</th>\n",
       "      <td>4043</td>\n",
       "      <td>205682</td>\n",
       "    </tr>\n",
       "    <tr>\n",
       "      <th>211616</th>\n",
       "      <td>5036</td>\n",
       "      <td>205683</td>\n",
       "    </tr>\n",
       "  </tbody>\n",
       "</table>\n",
       "<p>205684 rows × 2 columns</p>\n",
       "</div>"
      ],
      "text/plain": [
       "       postcode  postcode_index\n",
       "0          1774               0\n",
       "2          1068               1\n",
       "3          5628               2\n",
       "4          7731               3\n",
       "5          5971               4\n",
       "...         ...             ...\n",
       "211612     9791          205679\n",
       "211613     6431          205680\n",
       "211614     4051          205681\n",
       "211615     4043          205682\n",
       "211616     5036          205683\n",
       "\n",
       "[205684 rows x 2 columns]"
      ]
     },
     "execution_count": 45,
     "metadata": {},
     "output_type": "execute_result"
    }
   ],
   "source": [
    "df['postcode']=df['postcode'].str[0:4]\n",
    "postcode_df= df[[\"postcode\"]]\n",
    "\n",
    "#adding the postcode_index column\n",
    "postcode_df[\"postcode_index\"]= [x for x in range(postcode_df.shape[0])]\n",
    "df[\"postcode_prepared\"] = postcode_df[\"postcode_index\"]\n",
    "postcode_df\n"
   ]
  },
  {
   "cell_type": "markdown",
   "metadata": {},
   "source": [
    "4. Preparing the building year columns by only selecting the first four digits and dropping values that can not be used for analysis"
   ]
  },
  {
   "cell_type": "code",
   "execution_count": 46,
   "metadata": {},
   "outputs": [],
   "source": [
    "#getting only first 4 digits in bouwjaar column \n",
    "df['bouwjaar']=df['bouwjaar'].str[0:4]"
   ]
  },
  {
   "cell_type": "code",
   "execution_count": 47,
   "metadata": {},
   "outputs": [],
   "source": [
    "# Drop Vo and Na values from bouwjaar, these are mistakes in the dataset\n",
    "df= df.drop(df[df.bouwjaar == '<{Vo'].index)\n",
    "df= df.drop(df[df.bouwjaar == '<{Na'].index)"
   ]
  },
  {
   "cell_type": "code",
   "execution_count": 48,
   "metadata": {},
   "outputs": [],
   "source": [
    "#Change bouwjaar type to int64\n",
    "columns = ['bouwjaar']\n",
    "for col in columns:\n",
    "    df[col] = df[col].astype('int64')"
   ]
  },
  {
   "cell_type": "markdown",
   "metadata": {},
   "source": [
    "5. Removing the final columns that will not be used for analysis\n"
   ]
  },
  {
   "cell_type": "code",
   "execution_count": 49,
   "metadata": {},
   "outputs": [
    {
     "name": "stderr",
     "output_type": "stream",
     "text": [
      "C:\\Users\\pimdo\\AppData\\Local\\Temp/ipykernel_2364/1140287596.py:2: FutureWarning: In a future version of pandas all arguments of DataFrame.drop except for the argument 'labels' will be keyword-only\n",
      "  df = df.drop(['publicatieDatum', 'postcode', 'soortWoning', 'categorieObject', 'datum_ondertekening' ], 1)\n"
     ]
    }
   ],
   "source": [
    "# Dropping old columns that are converted\n",
    "df = df.drop(['publicatieDatum', 'postcode', 'soortWoning', 'categorieObject', 'datum_ondertekening' ], 1)\n"
   ]
  },
  {
   "cell_type": "code",
   "execution_count": 50,
   "metadata": {},
   "outputs": [
    {
     "data": {
      "text/html": [
       "<div>\n",
       "<style scoped>\n",
       "    .dataframe tbody tr th:only-of-type {\n",
       "        vertical-align: middle;\n",
       "    }\n",
       "\n",
       "    .dataframe tbody tr th {\n",
       "        vertical-align: top;\n",
       "    }\n",
       "\n",
       "    .dataframe thead th {\n",
       "        text-align: right;\n",
       "    }\n",
       "</style>\n",
       "<table border=\"1\" class=\"dataframe\">\n",
       "  <thead>\n",
       "    <tr style=\"text-align: right;\">\n",
       "      <th></th>\n",
       "      <th>Unnamed: 0</th>\n",
       "      <th>main_topic</th>\n",
       "      <th>koopPrijs</th>\n",
       "      <th>bouwjaar</th>\n",
       "      <th>indTuin</th>\n",
       "      <th>aantalKamers</th>\n",
       "      <th>oppervlakte</th>\n",
       "      <th>Time_to_sell</th>\n",
       "      <th>soortWoning_cleaned</th>\n",
       "      <th>postcode_prepared</th>\n",
       "    </tr>\n",
       "  </thead>\n",
       "  <tbody>\n",
       "    <tr>\n",
       "      <th>0</th>\n",
       "      <td>0</td>\n",
       "      <td>Topic 10</td>\n",
       "      <td>139000.0</td>\n",
       "      <td>1971</td>\n",
       "      <td>1</td>\n",
       "      <td>3</td>\n",
       "      <td>62</td>\n",
       "      <td>104</td>\n",
       "      <td>vrijstaande_woning</td>\n",
       "      <td>0</td>\n",
       "    </tr>\n",
       "    <tr>\n",
       "      <th>2</th>\n",
       "      <td>2</td>\n",
       "      <td>Topic 2</td>\n",
       "      <td>267500.0</td>\n",
       "      <td>2001</td>\n",
       "      <td>0</td>\n",
       "      <td>3</td>\n",
       "      <td>70</td>\n",
       "      <td>113</td>\n",
       "      <td>appartement</td>\n",
       "      <td>1</td>\n",
       "    </tr>\n",
       "    <tr>\n",
       "      <th>3</th>\n",
       "      <td>3</td>\n",
       "      <td>Topic 3</td>\n",
       "      <td>349000.0</td>\n",
       "      <td>1973</td>\n",
       "      <td>1</td>\n",
       "      <td>5</td>\n",
       "      <td>144</td>\n",
       "      <td>132</td>\n",
       "      <td>eengezinswoning</td>\n",
       "      <td>2</td>\n",
       "    </tr>\n",
       "    <tr>\n",
       "      <th>4</th>\n",
       "      <td>4</td>\n",
       "      <td>Topic 6</td>\n",
       "      <td>495000.0</td>\n",
       "      <td>1900</td>\n",
       "      <td>0</td>\n",
       "      <td>8</td>\n",
       "      <td>323</td>\n",
       "      <td>123</td>\n",
       "      <td>vrijstaande_woning</td>\n",
       "      <td>3</td>\n",
       "    </tr>\n",
       "    <tr>\n",
       "      <th>5</th>\n",
       "      <td>5</td>\n",
       "      <td>Topic 9</td>\n",
       "      <td>162500.0</td>\n",
       "      <td>1970</td>\n",
       "      <td>1</td>\n",
       "      <td>4</td>\n",
       "      <td>68</td>\n",
       "      <td>243</td>\n",
       "      <td>eengezinswoning</td>\n",
       "      <td>4</td>\n",
       "    </tr>\n",
       "  </tbody>\n",
       "</table>\n",
       "</div>"
      ],
      "text/plain": [
       "   Unnamed: 0 main_topic  koopPrijs  bouwjaar  indTuin  aantalKamers  \\\n",
       "0           0   Topic 10   139000.0      1971        1             3   \n",
       "2           2    Topic 2   267500.0      2001        0             3   \n",
       "3           3    Topic 3   349000.0      1973        1             5   \n",
       "4           4    Topic 6   495000.0      1900        0             8   \n",
       "5           5    Topic 9   162500.0      1970        1             4   \n",
       "\n",
       "   oppervlakte  Time_to_sell soortWoning_cleaned  postcode_prepared  \n",
       "0           62           104  vrijstaande_woning                  0  \n",
       "2           70           113         appartement                  1  \n",
       "3          144           132     eengezinswoning                  2  \n",
       "4          323           123  vrijstaande_woning                  3  \n",
       "5           68           243     eengezinswoning                  4  "
      ]
     },
     "execution_count": 50,
     "metadata": {},
     "output_type": "execute_result"
    }
   ],
   "source": [
    "# Showing the final result\n",
    "df.head()"
   ]
  },
  {
   "cell_type": "markdown",
   "metadata": {},
   "source": [
    "6. Exporting the prepared dataset to a CSV file\n"
   ]
  },
  {
   "cell_type": "code",
   "execution_count": 51,
   "metadata": {},
   "outputs": [],
   "source": [
    "# Save changes to a CSV format that can easily be imported in the ML notebook\n",
    "df.to_csv('prepared_df2.csv')"
   ]
  },
  {
   "cell_type": "markdown",
   "metadata": {},
   "source": [
    "## Data insights"
   ]
  },
  {
   "cell_type": "code",
   "execution_count": 52,
   "metadata": {},
   "outputs": [
    {
     "data": {
      "text/plain": [
       "<Figure size 540x252 with 0 Axes>"
      ]
     },
     "execution_count": 52,
     "metadata": {},
     "output_type": "execute_result"
    },
    {
     "data": {
      "text/plain": [
       "<AxesSubplot:>"
      ]
     },
     "execution_count": 52,
     "metadata": {},
     "output_type": "execute_result"
    },
    {
     "data": {
      "image/png": "[encoded data removed]",
      "text/plain": [
       "<Figure size 540x252 with 1 Axes>"
      ]
     },
     "metadata": {
      "needs_background": "light"
     },
     "output_type": "display_data"
    }
   ],
   "source": [
    "# Boxplot for koopPrijs\n",
    "plt.figure()\n",
    "\n",
    "plt.rcParams[\"figure.figsize\"] = [7.50, 3.50]\n",
    "plt.rcParams[\"figure.autolayout\"] = True\n",
    "\n",
    "df.boxplot(['koopPrijs'])"
   ]
  },
  {
   "cell_type": "markdown",
   "metadata": {},
   "source": [
    "The boxplot above shows that the vast majority of houses are between €0 and €750.000 (€0.75 *10^7). There are only outliers above +/-€0.75 *10^7 (€750.000)."
   ]
  },
  {
   "cell_type": "code",
   "execution_count": 53,
   "metadata": {},
   "outputs": [
    {
     "data": {
      "text/plain": [
       "<seaborn.axisgrid.FacetGrid at 0x1ca9ee36820>"
      ]
     },
     "execution_count": 53,
     "metadata": {},
     "output_type": "execute_result"
    },
    {
     "data": {
      "text/plain": [
       "<seaborn.axisgrid.FacetGrid at 0x1ca9ee36820>"
      ]
     },
     "execution_count": 53,
     "metadata": {},
     "output_type": "execute_result"
    },
    {
     "data": {
      "text/plain": [
       "<function matplotlib.pyplot.show(close=None, block=None)>"
      ]
     },
     "execution_count": 53,
     "metadata": {},
     "output_type": "execute_result"
    },
    {
     "data": {
      "image/png": "[encoded data removed]",
      "text/plain": [
       "<Figure size 360x360 with 1 Axes>"
      ]
     },
     "metadata": {
      "needs_background": "light"
     },
     "output_type": "display_data"
    }
   ],
   "source": [
    "# Distribution graph of koopprijs\n",
    "a_plot = sns.displot(df['koopPrijs'])\n",
    "a_plot.set(xlim=(0.0, 2000000))\n",
    "a_plot.set(ylim=(0, 8000))\n",
    "\n",
    "plt.show"
   ]
  },
  {
   "cell_type": "markdown",
   "metadata": {},
   "source": [
    "As can be seen above, most sold houses are in the lower price range. There are, however, several houses that have been sold for high prices (>2.000.000). These few outliers have been taken out of this graph, because of the few numbers and the ability to read the graph."
   ]
  },
  {
   "cell_type": "code",
   "execution_count": 54,
   "metadata": {},
   "outputs": [
    {
     "data": {
      "text/plain": [
       "<Figure size 720x720 with 0 Axes>"
      ]
     },
     "execution_count": 54,
     "metadata": {},
     "output_type": "execute_result"
    },
    {
     "name": "stdout",
     "output_type": "stream",
     "text": [
      "heatmap with correlations of dataframe\n",
      "AxesSubplot(0.0398698,0.0398698;0.756104x0.939575)\n"
     ]
    },
    {
     "data": {
      "image/png": "[encoded data removed]",
      "text/plain": [
       "<Figure size 720x720 with 2 Axes>"
      ]
     },
     "metadata": {
      "needs_background": "light"
     },
     "output_type": "display_data"
    }
   ],
   "source": [
    "# Correlation heatmap\n",
    "plt.figure(figsize = (10, 10))       \n",
    "print('heatmap with correlations of dataframe')\n",
    "print(sns.heatmap(df.corr(),annot = True))"
   ]
  },
  {
   "cell_type": "markdown",
   "metadata": {},
   "source": [
    "In the correlation heatmap above can be seen that for koopPrijs there is a correlation of 0.66 with oppervlakte. Another average correlation is with the number of rooms: 0.39.\n",
    "\n",
    "For Time_to_sell there are no strong correlation. The least weak correlations are with oppervlakte (0.23), koopprijs (0.16) and aantalKamers(0.14)."
   ]
  },
  {
   "cell_type": "markdown",
   "metadata": {},
   "source": [
    "## Regression line oppervlakte & koopPrijs"
   ]
  },
  {
   "cell_type": "code",
   "execution_count": 55,
   "metadata": {},
   "outputs": [
    {
     "data": {
      "text/plain": [
       "[<matplotlib.lines.Line2D at 0x1ca9ee6fa00>]"
      ]
     },
     "execution_count": 55,
     "metadata": {},
     "output_type": "execute_result"
    },
    {
     "data": {
      "text/plain": [
       "<matplotlib.collections.PathCollection at 0x1ca9ee6f820>"
      ]
     },
     "execution_count": 55,
     "metadata": {},
     "output_type": "execute_result"
    },
    {
     "data": {
      "text/plain": [
       "Text(0.5, 0, 'oppervlakte')"
      ]
     },
     "execution_count": 55,
     "metadata": {},
     "output_type": "execute_result"
    },
    {
     "data": {
      "text/plain": [
       "Text(0, 0.5, 'koopPrijs')"
      ]
     },
     "execution_count": 55,
     "metadata": {},
     "output_type": "execute_result"
    },
    {
     "data": {
      "image/png": "[encoded data removed]",
      "text/plain": [
       "<Figure size 540x252 with 1 Axes>"
      ]
     },
     "metadata": {
      "needs_background": "light"
     },
     "output_type": "display_data"
    }
   ],
   "source": [
    "\n",
    "# Set columns to lists\n",
    "opp = df.oppervlakte.to_list()\n",
    "prijs = df.koopPrijs.to_list()       \n",
    "\n",
    "# Calculating the mean \n",
    "average_opp = np.mean(df['oppervlakte'])\n",
    "average_prijs = np.mean(df['koopPrijs'])\n",
    "\n",
    "# Calculating B1 and B0\n",
    "sum1 = 0\n",
    "sum2 = 0\n",
    "for i in range(len(opp)):\n",
    "    sum1 = sum1 + ((opp[i] - average_opp)*(opp[i] - average_opp))\n",
    "    sum2 = sum2 + ((prijs[i] - average_prijs)*(opp[i] - average_opp))\n",
    "b1 = sum2/sum1\n",
    "b0 = average_prijs - (b1 * average_opp)\n",
    "\n",
    "# Plotting the linear regression line\n",
    "x = np.linspace(0,3000,10)\n",
    "y = b0 + (b1*x)\n",
    "plt.plot(x,y,'r')\n",
    "plt.scatter(opp, prijs)\n",
    "plt.xlabel(\"oppervlakte\")\n",
    "plt.ylabel(\"koopPrijs\")"
   ]
  },
  {
   "cell_type": "markdown",
   "metadata": {},
   "source": [
    "The strongest correlation is between oppervlakte and koopPrijs. This relation and the regression line can be seen above in the scatter plot above."
   ]
  }
 ],
 "metadata": {
  "interpreter": {
   "hash": "ca32d9c1d8aaefccf989343da9839faf31f5ab9f3899e123c61ac61727cdbfdf"
  },
  "kernelspec": {
   "display_name": "Python 3.8.8 64-bit ('base': conda)",
   "language": "python",
   "name": "python3"
  },
  "language_info": {
   "codemirror_mode": {
    "name": "ipython",
    "version": 3
   },
   "file_extension": ".py",
   "mimetype": "text/x-python",
   "name": "python",
   "nbconvert_exporter": "python",
   "pygments_lexer": "ipython3",
   "version": "3.8.12"
  },
  "orig_nbformat": 4
 },
 "nbformat": 4,
 "nbformat_minor": 2
}
