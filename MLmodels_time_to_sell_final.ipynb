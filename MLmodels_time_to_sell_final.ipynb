{
 "cells": [
  {
   "cell_type": "markdown",
   "metadata": {},
   "source": [
    "# Machine learning modelling for 'Time to sell'"
   ]
  },
  {
   "cell_type": "markdown",
   "metadata": {},
   "source": [
    "### Introduction"
   ]
  },
  {
   "cell_type": "markdown",
   "metadata": {},
   "source": [
    "This project is executed for the course of AI for Business, at the Amsterdam School of Applied Sciences in 2022. The purpose of the research is to to build and evaluate machine learning approaches to predict the price of a  house and the time to sale of a house. The dataset that is used to train and evaluate the models is scraped from the Dutch housing website Funda. In this notebook, two machine learning models will be tested and compared with each other to see what model predict the best result. The project is conducted and combined by Pim Doosje (500800438) and Joel Zelle (500763451)."
   ]
  },
  {
   "cell_type": "markdown",
   "metadata": {},
   "source": [
    "### Importing the dataset and libraries"
   ]
  },
  {
   "cell_type": "code",
   "execution_count": 2,
   "metadata": {},
   "outputs": [],
   "source": [
    "# importing all libraries\n",
    "import pandas as pd\n",
    "import numpy as np\n",
    "from sklearn.model_selection import GridSearchCV\n",
    "from sklearn.preprocessing import OneHotEncoder, StandardScaler\n",
    "from sklearn.ensemble import RandomForestRegressor\n",
    "from sklearn import metrics\n",
    "import scikeras\n",
    "from scikeras.wrappers import KerasRegressor\n",
    "import matplotlib.pyplot as plt\n",
    "from pprint import pprint\n",
    "from datetime import datetime"
   ]
  },
  {
   "cell_type": "code",
   "execution_count": 3,
   "metadata": {},
   "outputs": [],
   "source": [
    "# showing all outputs in this notebook\n",
    "from IPython.core.interactiveshell import InteractiveShell\n",
    "InteractiveShell.ast_node_interactivity = \"all\""
   ]
  },
  {
   "cell_type": "code",
   "execution_count": 4,
   "metadata": {},
   "outputs": [],
   "source": [
    "# importing prepared csv file\n",
    "df_cleaned = pd.read_csv('prepared_df2.csv')"
   ]
  },
  {
   "cell_type": "markdown",
   "metadata": {},
   "source": [
    "### Checking and final preparation of the data"
   ]
  },
  {
   "cell_type": "code",
   "execution_count": 5,
   "metadata": {},
   "outputs": [
    {
     "data": {
      "text/html": [
       "<div>\n",
       "<style scoped>\n",
       "    .dataframe tbody tr th:only-of-type {\n",
       "        vertical-align: middle;\n",
       "    }\n",
       "\n",
       "    .dataframe tbody tr th {\n",
       "        vertical-align: top;\n",
       "    }\n",
       "\n",
       "    .dataframe thead th {\n",
       "        text-align: right;\n",
       "    }\n",
       "</style>\n",
       "<table border=\"1\" class=\"dataframe\">\n",
       "  <thead>\n",
       "    <tr style=\"text-align: right;\">\n",
       "      <th></th>\n",
       "      <th>Unnamed: 0</th>\n",
       "      <th>Unnamed: 0.1</th>\n",
       "      <th>main_topic</th>\n",
       "      <th>koopPrijs</th>\n",
       "      <th>bouwjaar</th>\n",
       "      <th>indTuin</th>\n",
       "      <th>aantalKamers</th>\n",
       "      <th>oppervlakte</th>\n",
       "      <th>Time_to_sell</th>\n",
       "      <th>soortWoning_cleaned</th>\n",
       "      <th>postcode_prepared</th>\n",
       "    </tr>\n",
       "  </thead>\n",
       "  <tbody>\n",
       "    <tr>\n",
       "      <th>0</th>\n",
       "      <td>0</td>\n",
       "      <td>0</td>\n",
       "      <td>Topic 10</td>\n",
       "      <td>139000.0</td>\n",
       "      <td>1971</td>\n",
       "      <td>1</td>\n",
       "      <td>3</td>\n",
       "      <td>62</td>\n",
       "      <td>104</td>\n",
       "      <td>vrijstaande_woning</td>\n",
       "      <td>0</td>\n",
       "    </tr>\n",
       "    <tr>\n",
       "      <th>1</th>\n",
       "      <td>2</td>\n",
       "      <td>2</td>\n",
       "      <td>Topic 2</td>\n",
       "      <td>267500.0</td>\n",
       "      <td>2001</td>\n",
       "      <td>0</td>\n",
       "      <td>3</td>\n",
       "      <td>70</td>\n",
       "      <td>113</td>\n",
       "      <td>appartement</td>\n",
       "      <td>1</td>\n",
       "    </tr>\n",
       "    <tr>\n",
       "      <th>2</th>\n",
       "      <td>3</td>\n",
       "      <td>3</td>\n",
       "      <td>Topic 3</td>\n",
       "      <td>349000.0</td>\n",
       "      <td>1973</td>\n",
       "      <td>1</td>\n",
       "      <td>5</td>\n",
       "      <td>144</td>\n",
       "      <td>132</td>\n",
       "      <td>eengezinswoning</td>\n",
       "      <td>2</td>\n",
       "    </tr>\n",
       "    <tr>\n",
       "      <th>3</th>\n",
       "      <td>4</td>\n",
       "      <td>4</td>\n",
       "      <td>Topic 6</td>\n",
       "      <td>495000.0</td>\n",
       "      <td>1900</td>\n",
       "      <td>0</td>\n",
       "      <td>8</td>\n",
       "      <td>323</td>\n",
       "      <td>123</td>\n",
       "      <td>vrijstaande_woning</td>\n",
       "      <td>3</td>\n",
       "    </tr>\n",
       "    <tr>\n",
       "      <th>4</th>\n",
       "      <td>5</td>\n",
       "      <td>5</td>\n",
       "      <td>Topic 9</td>\n",
       "      <td>162500.0</td>\n",
       "      <td>1970</td>\n",
       "      <td>1</td>\n",
       "      <td>4</td>\n",
       "      <td>68</td>\n",
       "      <td>243</td>\n",
       "      <td>eengezinswoning</td>\n",
       "      <td>4</td>\n",
       "    </tr>\n",
       "  </tbody>\n",
       "</table>\n",
       "</div>"
      ],
      "text/plain": [
       "   Unnamed: 0  Unnamed: 0.1 main_topic  koopPrijs  bouwjaar  indTuin  \\\n",
       "0           0             0   Topic 10   139000.0      1971        1   \n",
       "1           2             2    Topic 2   267500.0      2001        0   \n",
       "2           3             3    Topic 3   349000.0      1973        1   \n",
       "3           4             4    Topic 6   495000.0      1900        0   \n",
       "4           5             5    Topic 9   162500.0      1970        1   \n",
       "\n",
       "   aantalKamers  oppervlakte  Time_to_sell soortWoning_cleaned  \\\n",
       "0             3           62           104  vrijstaande_woning   \n",
       "1             3           70           113         appartement   \n",
       "2             5          144           132     eengezinswoning   \n",
       "3             8          323           123  vrijstaande_woning   \n",
       "4             4           68           243     eengezinswoning   \n",
       "\n",
       "   postcode_prepared  \n",
       "0                  0  \n",
       "1                  1  \n",
       "2                  2  \n",
       "3                  3  \n",
       "4                  4  "
      ]
     },
     "execution_count": 5,
     "metadata": {},
     "output_type": "execute_result"
    }
   ],
   "source": [
    "# showing the header of the cleaned csv header\n",
    "df_cleaned.head()"
   ]
  },
  {
   "cell_type": "code",
   "execution_count": 5,
   "metadata": {},
   "outputs": [
    {
     "data": {
      "text/plain": [
       "Unnamed: 0               int64\n",
       "Unnamed: 0.1             int64\n",
       "main_topic              object\n",
       "koopPrijs              float64\n",
       "bouwjaar                 int64\n",
       "indTuin                  int64\n",
       "aantalKamers             int64\n",
       "oppervlakte              int64\n",
       "Time_to_sell             int64\n",
       "soortWoning_cleaned     object\n",
       "postcode_prepared        int64\n",
       "dtype: object"
      ]
     },
     "execution_count": 5,
     "metadata": {},
     "output_type": "execute_result"
    }
   ],
   "source": [
    "# showing all data types and making sure that all of them are integers or float except the soortwoning which still has to be dummified\n",
    "df_cleaned.dtypes"
   ]
  },
  {
   "cell_type": "code",
   "execution_count": 6,
   "metadata": {},
   "outputs": [
    {
     "data": {
      "text/plain": [
       "Unnamed: 0             0\n",
       "Unnamed: 0.1           0\n",
       "main_topic             0\n",
       "koopPrijs              0\n",
       "bouwjaar               0\n",
       "indTuin                0\n",
       "aantalKamers           0\n",
       "oppervlakte            0\n",
       "Time_to_sell           0\n",
       "soortWoning_cleaned    0\n",
       "postcode_prepared      0\n",
       "dtype: int64"
      ]
     },
     "execution_count": 6,
     "metadata": {},
     "output_type": "execute_result"
    }
   ],
   "source": [
    "# checking for null values\n",
    "df_cleaned.isnull().sum()"
   ]
  },
  {
   "cell_type": "code",
   "execution_count": 6,
   "metadata": {},
   "outputs": [],
   "source": [
    "# drop 1 Unnamed column\n",
    "df_cleaned = df_cleaned.drop(['Unnamed: 0.1'], axis=1)"
   ]
  },
  {
   "cell_type": "code",
   "execution_count": 7,
   "metadata": {},
   "outputs": [],
   "source": [
    "# the last transformation to make the data set ready for modelling\n",
    "df= df_cleaned\n",
    "columns = ['Time_to_sell', 'bouwjaar']\n",
    "for col in columns:\n",
    "    df[col] = df[col].astype('int64')"
   ]
  },
  {
   "cell_type": "code",
   "execution_count": 8,
   "metadata": {},
   "outputs": [],
   "source": [
    "# Renaming df and renaming column\n",
    "df = df_cleaned.rename(columns={'Unnamed: 0': 'id'})"
   ]
  },
  {
   "cell_type": "code",
   "execution_count": 9,
   "metadata": {},
   "outputs": [
    {
     "data": {
      "text/html": [
       "<div>\n",
       "<style scoped>\n",
       "    .dataframe tbody tr th:only-of-type {\n",
       "        vertical-align: middle;\n",
       "    }\n",
       "\n",
       "    .dataframe tbody tr th {\n",
       "        vertical-align: top;\n",
       "    }\n",
       "\n",
       "    .dataframe thead th {\n",
       "        text-align: right;\n",
       "    }\n",
       "</style>\n",
       "<table border=\"1\" class=\"dataframe\">\n",
       "  <thead>\n",
       "    <tr style=\"text-align: right;\">\n",
       "      <th></th>\n",
       "      <th>id</th>\n",
       "      <th>main_topic</th>\n",
       "      <th>koopPrijs</th>\n",
       "      <th>bouwjaar</th>\n",
       "      <th>indTuin</th>\n",
       "      <th>aantalKamers</th>\n",
       "      <th>oppervlakte</th>\n",
       "      <th>Time_to_sell</th>\n",
       "      <th>soortWoning_cleaned</th>\n",
       "      <th>postcode_prepared</th>\n",
       "    </tr>\n",
       "  </thead>\n",
       "  <tbody>\n",
       "    <tr>\n",
       "      <th>0</th>\n",
       "      <td>0</td>\n",
       "      <td>Topic 10</td>\n",
       "      <td>139000.0</td>\n",
       "      <td>1971</td>\n",
       "      <td>1</td>\n",
       "      <td>3</td>\n",
       "      <td>62</td>\n",
       "      <td>104</td>\n",
       "      <td>vrijstaande_woning</td>\n",
       "      <td>0</td>\n",
       "    </tr>\n",
       "    <tr>\n",
       "      <th>1</th>\n",
       "      <td>2</td>\n",
       "      <td>Topic 2</td>\n",
       "      <td>267500.0</td>\n",
       "      <td>2001</td>\n",
       "      <td>0</td>\n",
       "      <td>3</td>\n",
       "      <td>70</td>\n",
       "      <td>113</td>\n",
       "      <td>appartement</td>\n",
       "      <td>1</td>\n",
       "    </tr>\n",
       "    <tr>\n",
       "      <th>2</th>\n",
       "      <td>3</td>\n",
       "      <td>Topic 3</td>\n",
       "      <td>349000.0</td>\n",
       "      <td>1973</td>\n",
       "      <td>1</td>\n",
       "      <td>5</td>\n",
       "      <td>144</td>\n",
       "      <td>132</td>\n",
       "      <td>eengezinswoning</td>\n",
       "      <td>2</td>\n",
       "    </tr>\n",
       "    <tr>\n",
       "      <th>3</th>\n",
       "      <td>4</td>\n",
       "      <td>Topic 6</td>\n",
       "      <td>495000.0</td>\n",
       "      <td>1900</td>\n",
       "      <td>0</td>\n",
       "      <td>8</td>\n",
       "      <td>323</td>\n",
       "      <td>123</td>\n",
       "      <td>vrijstaande_woning</td>\n",
       "      <td>3</td>\n",
       "    </tr>\n",
       "    <tr>\n",
       "      <th>4</th>\n",
       "      <td>5</td>\n",
       "      <td>Topic 9</td>\n",
       "      <td>162500.0</td>\n",
       "      <td>1970</td>\n",
       "      <td>1</td>\n",
       "      <td>4</td>\n",
       "      <td>68</td>\n",
       "      <td>243</td>\n",
       "      <td>eengezinswoning</td>\n",
       "      <td>4</td>\n",
       "    </tr>\n",
       "  </tbody>\n",
       "</table>\n",
       "</div>"
      ],
      "text/plain": [
       "   id main_topic  koopPrijs  bouwjaar  indTuin  aantalKamers  oppervlakte  \\\n",
       "0   0   Topic 10   139000.0      1971        1             3           62   \n",
       "1   2    Topic 2   267500.0      2001        0             3           70   \n",
       "2   3    Topic 3   349000.0      1973        1             5          144   \n",
       "3   4    Topic 6   495000.0      1900        0             8          323   \n",
       "4   5    Topic 9   162500.0      1970        1             4           68   \n",
       "\n",
       "   Time_to_sell soortWoning_cleaned  postcode_prepared  \n",
       "0           104  vrijstaande_woning                  0  \n",
       "1           113         appartement                  1  \n",
       "2           132     eengezinswoning                  2  \n",
       "3           123  vrijstaande_woning                  3  \n",
       "4           243     eengezinswoning                  4  "
      ]
     },
     "execution_count": 9,
     "metadata": {},
     "output_type": "execute_result"
    }
   ],
   "source": [
    "# Final check to see if the dataframe is correct\n",
    "df.head()"
   ]
  },
  {
   "cell_type": "markdown",
   "metadata": {},
   "source": [
    "### Splitting the data"
   ]
  },
  {
   "cell_type": "code",
   "execution_count": 10,
   "metadata": {},
   "outputs": [],
   "source": [
    "# defining the splitter to split the data set between training, testing and validation sets\n",
    "class TrainTestSplitter(object):\n",
    "    '''Class to perform the split of the data into train, test, and validation.\n",
    "    '''\n",
    "    def __init__(self, train_frac=0.8, validation_frac=0.2, seed=1234):\n",
    "        self.train_frac = train_frac\n",
    "        self.validation_frac = validation_frac\n",
    "        self.seed = seed\n",
    "\n",
    "    def split_train_test(self, df):\n",
    "        print(\"Generating the train/validation/test splits...\")\n",
    "        self.train_set = df.sample(frac=self.train_frac, random_state=self.seed)\n",
    "        self.test_set = df.loc[lambda x: ~x.id.isin(self.train_set.id)].reset_index(drop=True)\n",
    "        self.validation_set = self.train_set.sample(frac=self.validation_frac).reset_index(drop=True)\n",
    "        self.train_set = self.train_set.loc[lambda x: ~x.id.isin(self.validation_set.id)].reset_index(drop=True)\n",
    "        print(\"calculating the statistics...\")\n",
    "        print(\"split completed\")"
   ]
  },
  {
   "cell_type": "code",
   "execution_count": 11,
   "metadata": {},
   "outputs": [
    {
     "name": "stdout",
     "output_type": "stream",
     "text": [
      "Generating the train/validation/test splits...\n",
      "calculating the statistics...\n",
      "split completed\n"
     ]
    }
   ],
   "source": [
    "# create a fitting_splits object that will hold the train, validation, and test data\n",
    "fitting_splits = TrainTestSplitter()\n",
    "fitting_splits.split_train_test(df)"
   ]
  },
  {
   "cell_type": "code",
   "execution_count": 12,
   "metadata": {},
   "outputs": [
    {
     "data": {
      "text/plain": [
       "(130027, 10)"
      ]
     },
     "execution_count": 12,
     "metadata": {},
     "output_type": "execute_result"
    },
    {
     "data": {
      "text/plain": [
       "(40633, 10)"
      ]
     },
     "execution_count": 12,
     "metadata": {},
     "output_type": "execute_result"
    },
    {
     "data": {
      "text/plain": [
       "(32507, 10)"
      ]
     },
     "execution_count": 12,
     "metadata": {},
     "output_type": "execute_result"
    }
   ],
   "source": [
    "# checking if they're devided correctly\n",
    "fitting_splits.train_set.shape\n",
    "fitting_splits.test_set.shape\n",
    "fitting_splits.validation_set.shape"
   ]
  },
  {
   "cell_type": "markdown",
   "metadata": {},
   "source": [
    "### Data preparation for the models: dummifying and scaling"
   ]
  },
  {
   "cell_type": "code",
   "execution_count": 16,
   "metadata": {},
   "outputs": [
    {
     "data": {
      "text/plain": [
       "OneHotEncoder()"
      ]
     },
     "execution_count": 16,
     "metadata": {},
     "output_type": "execute_result"
    }
   ],
   "source": [
    "# dummify the soortWoning column, in the training set: from catagory to integer \n",
    "# this needs to be done, so the outcomes become numbers. Only number can be used in creating the model.\n",
    "one_hot_encoder = OneHotEncoder()\n",
    "one_hot_encoder.fit(fitting_splits.train_set[['soortWoning_cleaned', 'main_topic']])"
   ]
  },
  {
   "cell_type": "code",
   "execution_count": 17,
   "metadata": {},
   "outputs": [
    {
     "data": {
      "text/plain": [
       "[array(['appartement', 'benedenwoning', 'bovenwoning', 'eengezinswoning',\n",
       "        'herenhuis', 'other', 'portiekflat', 'vrijstaande_woning'],\n",
       "       dtype=object),\n",
       " array(['Topic 1', 'Topic 10', 'Topic 2', 'Topic 3', 'Topic 4', 'Topic 5',\n",
       "        'Topic 6', 'Topic 7', 'Topic 8', 'Topic 9'], dtype=object)]"
      ]
     },
     "execution_count": 17,
     "metadata": {},
     "output_type": "execute_result"
    },
    {
     "data": {
      "text/plain": [
       "array(['soortWoning_cleaned_appartement',\n",
       "       'soortWoning_cleaned_benedenwoning',\n",
       "       'soortWoning_cleaned_bovenwoning',\n",
       "       'soortWoning_cleaned_eengezinswoning',\n",
       "       'soortWoning_cleaned_herenhuis', 'soortWoning_cleaned_other',\n",
       "       'soortWoning_cleaned_portiekflat',\n",
       "       'soortWoning_cleaned_vrijstaande_woning', 'main_topic_Topic 1',\n",
       "       'main_topic_Topic 10', 'main_topic_Topic 2', 'main_topic_Topic 3',\n",
       "       'main_topic_Topic 4', 'main_topic_Topic 5', 'main_topic_Topic 6',\n",
       "       'main_topic_Topic 7', 'main_topic_Topic 8', 'main_topic_Topic 9'],\n",
       "      dtype=object)"
      ]
     },
     "execution_count": 17,
     "metadata": {},
     "output_type": "execute_result"
    },
    {
     "data": {
      "text/html": [
       "<div>\n",
       "<style scoped>\n",
       "    .dataframe tbody tr th:only-of-type {\n",
       "        vertical-align: middle;\n",
       "    }\n",
       "\n",
       "    .dataframe tbody tr th {\n",
       "        vertical-align: top;\n",
       "    }\n",
       "\n",
       "    .dataframe thead th {\n",
       "        text-align: right;\n",
       "    }\n",
       "</style>\n",
       "<table border=\"1\" class=\"dataframe\">\n",
       "  <thead>\n",
       "    <tr style=\"text-align: right;\">\n",
       "      <th></th>\n",
       "      <th>soortWoning_cleaned_appartement</th>\n",
       "      <th>soortWoning_cleaned_benedenwoning</th>\n",
       "      <th>soortWoning_cleaned_bovenwoning</th>\n",
       "      <th>soortWoning_cleaned_eengezinswoning</th>\n",
       "      <th>soortWoning_cleaned_herenhuis</th>\n",
       "      <th>soortWoning_cleaned_other</th>\n",
       "      <th>soortWoning_cleaned_portiekflat</th>\n",
       "      <th>soortWoning_cleaned_vrijstaande_woning</th>\n",
       "      <th>main_topic_Topic 1</th>\n",
       "      <th>main_topic_Topic 10</th>\n",
       "      <th>main_topic_Topic 2</th>\n",
       "      <th>main_topic_Topic 3</th>\n",
       "      <th>main_topic_Topic 4</th>\n",
       "      <th>main_topic_Topic 5</th>\n",
       "      <th>main_topic_Topic 6</th>\n",
       "      <th>main_topic_Topic 7</th>\n",
       "      <th>main_topic_Topic 8</th>\n",
       "      <th>main_topic_Topic 9</th>\n",
       "    </tr>\n",
       "  </thead>\n",
       "  <tbody>\n",
       "    <tr>\n",
       "      <th>0</th>\n",
       "      <td>0.0</td>\n",
       "      <td>0.0</td>\n",
       "      <td>0.0</td>\n",
       "      <td>1.0</td>\n",
       "      <td>0.0</td>\n",
       "      <td>0.0</td>\n",
       "      <td>0.0</td>\n",
       "      <td>0.0</td>\n",
       "      <td>0.0</td>\n",
       "      <td>0.0</td>\n",
       "      <td>0.0</td>\n",
       "      <td>0.0</td>\n",
       "      <td>0.0</td>\n",
       "      <td>0.0</td>\n",
       "      <td>0.0</td>\n",
       "      <td>1.0</td>\n",
       "      <td>0.0</td>\n",
       "      <td>0.0</td>\n",
       "    </tr>\n",
       "    <tr>\n",
       "      <th>1</th>\n",
       "      <td>0.0</td>\n",
       "      <td>0.0</td>\n",
       "      <td>0.0</td>\n",
       "      <td>1.0</td>\n",
       "      <td>0.0</td>\n",
       "      <td>0.0</td>\n",
       "      <td>0.0</td>\n",
       "      <td>0.0</td>\n",
       "      <td>0.0</td>\n",
       "      <td>0.0</td>\n",
       "      <td>0.0</td>\n",
       "      <td>0.0</td>\n",
       "      <td>0.0</td>\n",
       "      <td>0.0</td>\n",
       "      <td>0.0</td>\n",
       "      <td>1.0</td>\n",
       "      <td>0.0</td>\n",
       "      <td>0.0</td>\n",
       "    </tr>\n",
       "    <tr>\n",
       "      <th>2</th>\n",
       "      <td>0.0</td>\n",
       "      <td>0.0</td>\n",
       "      <td>0.0</td>\n",
       "      <td>1.0</td>\n",
       "      <td>0.0</td>\n",
       "      <td>0.0</td>\n",
       "      <td>0.0</td>\n",
       "      <td>0.0</td>\n",
       "      <td>1.0</td>\n",
       "      <td>0.0</td>\n",
       "      <td>0.0</td>\n",
       "      <td>0.0</td>\n",
       "      <td>0.0</td>\n",
       "      <td>0.0</td>\n",
       "      <td>0.0</td>\n",
       "      <td>0.0</td>\n",
       "      <td>0.0</td>\n",
       "      <td>0.0</td>\n",
       "    </tr>\n",
       "    <tr>\n",
       "      <th>3</th>\n",
       "      <td>0.0</td>\n",
       "      <td>0.0</td>\n",
       "      <td>0.0</td>\n",
       "      <td>1.0</td>\n",
       "      <td>0.0</td>\n",
       "      <td>0.0</td>\n",
       "      <td>0.0</td>\n",
       "      <td>0.0</td>\n",
       "      <td>0.0</td>\n",
       "      <td>0.0</td>\n",
       "      <td>0.0</td>\n",
       "      <td>0.0</td>\n",
       "      <td>0.0</td>\n",
       "      <td>0.0</td>\n",
       "      <td>1.0</td>\n",
       "      <td>0.0</td>\n",
       "      <td>0.0</td>\n",
       "      <td>0.0</td>\n",
       "    </tr>\n",
       "    <tr>\n",
       "      <th>4</th>\n",
       "      <td>0.0</td>\n",
       "      <td>0.0</td>\n",
       "      <td>0.0</td>\n",
       "      <td>1.0</td>\n",
       "      <td>0.0</td>\n",
       "      <td>0.0</td>\n",
       "      <td>0.0</td>\n",
       "      <td>0.0</td>\n",
       "      <td>0.0</td>\n",
       "      <td>0.0</td>\n",
       "      <td>0.0</td>\n",
       "      <td>0.0</td>\n",
       "      <td>0.0</td>\n",
       "      <td>0.0</td>\n",
       "      <td>0.0</td>\n",
       "      <td>0.0</td>\n",
       "      <td>0.0</td>\n",
       "      <td>1.0</td>\n",
       "    </tr>\n",
       "    <tr>\n",
       "      <th>...</th>\n",
       "      <td>...</td>\n",
       "      <td>...</td>\n",
       "      <td>...</td>\n",
       "      <td>...</td>\n",
       "      <td>...</td>\n",
       "      <td>...</td>\n",
       "      <td>...</td>\n",
       "      <td>...</td>\n",
       "      <td>...</td>\n",
       "      <td>...</td>\n",
       "      <td>...</td>\n",
       "      <td>...</td>\n",
       "      <td>...</td>\n",
       "      <td>...</td>\n",
       "      <td>...</td>\n",
       "      <td>...</td>\n",
       "      <td>...</td>\n",
       "      <td>...</td>\n",
       "    </tr>\n",
       "    <tr>\n",
       "      <th>130022</th>\n",
       "      <td>0.0</td>\n",
       "      <td>0.0</td>\n",
       "      <td>0.0</td>\n",
       "      <td>1.0</td>\n",
       "      <td>0.0</td>\n",
       "      <td>0.0</td>\n",
       "      <td>0.0</td>\n",
       "      <td>0.0</td>\n",
       "      <td>0.0</td>\n",
       "      <td>1.0</td>\n",
       "      <td>0.0</td>\n",
       "      <td>0.0</td>\n",
       "      <td>0.0</td>\n",
       "      <td>0.0</td>\n",
       "      <td>0.0</td>\n",
       "      <td>0.0</td>\n",
       "      <td>0.0</td>\n",
       "      <td>0.0</td>\n",
       "    </tr>\n",
       "    <tr>\n",
       "      <th>130023</th>\n",
       "      <td>0.0</td>\n",
       "      <td>0.0</td>\n",
       "      <td>0.0</td>\n",
       "      <td>1.0</td>\n",
       "      <td>0.0</td>\n",
       "      <td>0.0</td>\n",
       "      <td>0.0</td>\n",
       "      <td>0.0</td>\n",
       "      <td>0.0</td>\n",
       "      <td>0.0</td>\n",
       "      <td>0.0</td>\n",
       "      <td>0.0</td>\n",
       "      <td>0.0</td>\n",
       "      <td>0.0</td>\n",
       "      <td>1.0</td>\n",
       "      <td>0.0</td>\n",
       "      <td>0.0</td>\n",
       "      <td>0.0</td>\n",
       "    </tr>\n",
       "    <tr>\n",
       "      <th>130024</th>\n",
       "      <td>0.0</td>\n",
       "      <td>0.0</td>\n",
       "      <td>1.0</td>\n",
       "      <td>0.0</td>\n",
       "      <td>0.0</td>\n",
       "      <td>0.0</td>\n",
       "      <td>0.0</td>\n",
       "      <td>0.0</td>\n",
       "      <td>0.0</td>\n",
       "      <td>0.0</td>\n",
       "      <td>0.0</td>\n",
       "      <td>0.0</td>\n",
       "      <td>1.0</td>\n",
       "      <td>0.0</td>\n",
       "      <td>0.0</td>\n",
       "      <td>0.0</td>\n",
       "      <td>0.0</td>\n",
       "      <td>0.0</td>\n",
       "    </tr>\n",
       "    <tr>\n",
       "      <th>130025</th>\n",
       "      <td>0.0</td>\n",
       "      <td>0.0</td>\n",
       "      <td>0.0</td>\n",
       "      <td>1.0</td>\n",
       "      <td>0.0</td>\n",
       "      <td>0.0</td>\n",
       "      <td>0.0</td>\n",
       "      <td>0.0</td>\n",
       "      <td>0.0</td>\n",
       "      <td>0.0</td>\n",
       "      <td>0.0</td>\n",
       "      <td>0.0</td>\n",
       "      <td>0.0</td>\n",
       "      <td>0.0</td>\n",
       "      <td>0.0</td>\n",
       "      <td>0.0</td>\n",
       "      <td>0.0</td>\n",
       "      <td>1.0</td>\n",
       "    </tr>\n",
       "    <tr>\n",
       "      <th>130026</th>\n",
       "      <td>0.0</td>\n",
       "      <td>0.0</td>\n",
       "      <td>0.0</td>\n",
       "      <td>1.0</td>\n",
       "      <td>0.0</td>\n",
       "      <td>0.0</td>\n",
       "      <td>0.0</td>\n",
       "      <td>0.0</td>\n",
       "      <td>0.0</td>\n",
       "      <td>1.0</td>\n",
       "      <td>0.0</td>\n",
       "      <td>0.0</td>\n",
       "      <td>0.0</td>\n",
       "      <td>0.0</td>\n",
       "      <td>0.0</td>\n",
       "      <td>0.0</td>\n",
       "      <td>0.0</td>\n",
       "      <td>0.0</td>\n",
       "    </tr>\n",
       "  </tbody>\n",
       "</table>\n",
       "<p>130027 rows × 18 columns</p>\n",
       "</div>"
      ],
      "text/plain": [
       "        soortWoning_cleaned_appartement  soortWoning_cleaned_benedenwoning  \\\n",
       "0                                   0.0                                0.0   \n",
       "1                                   0.0                                0.0   \n",
       "2                                   0.0                                0.0   \n",
       "3                                   0.0                                0.0   \n",
       "4                                   0.0                                0.0   \n",
       "...                                 ...                                ...   \n",
       "130022                              0.0                                0.0   \n",
       "130023                              0.0                                0.0   \n",
       "130024                              0.0                                0.0   \n",
       "130025                              0.0                                0.0   \n",
       "130026                              0.0                                0.0   \n",
       "\n",
       "        soortWoning_cleaned_bovenwoning  soortWoning_cleaned_eengezinswoning  \\\n",
       "0                                   0.0                                  1.0   \n",
       "1                                   0.0                                  1.0   \n",
       "2                                   0.0                                  1.0   \n",
       "3                                   0.0                                  1.0   \n",
       "4                                   0.0                                  1.0   \n",
       "...                                 ...                                  ...   \n",
       "130022                              0.0                                  1.0   \n",
       "130023                              0.0                                  1.0   \n",
       "130024                              1.0                                  0.0   \n",
       "130025                              0.0                                  1.0   \n",
       "130026                              0.0                                  1.0   \n",
       "\n",
       "        soortWoning_cleaned_herenhuis  soortWoning_cleaned_other  \\\n",
       "0                                 0.0                        0.0   \n",
       "1                                 0.0                        0.0   \n",
       "2                                 0.0                        0.0   \n",
       "3                                 0.0                        0.0   \n",
       "4                                 0.0                        0.0   \n",
       "...                               ...                        ...   \n",
       "130022                            0.0                        0.0   \n",
       "130023                            0.0                        0.0   \n",
       "130024                            0.0                        0.0   \n",
       "130025                            0.0                        0.0   \n",
       "130026                            0.0                        0.0   \n",
       "\n",
       "        soortWoning_cleaned_portiekflat  \\\n",
       "0                                   0.0   \n",
       "1                                   0.0   \n",
       "2                                   0.0   \n",
       "3                                   0.0   \n",
       "4                                   0.0   \n",
       "...                                 ...   \n",
       "130022                              0.0   \n",
       "130023                              0.0   \n",
       "130024                              0.0   \n",
       "130025                              0.0   \n",
       "130026                              0.0   \n",
       "\n",
       "        soortWoning_cleaned_vrijstaande_woning  main_topic_Topic 1  \\\n",
       "0                                          0.0                 0.0   \n",
       "1                                          0.0                 0.0   \n",
       "2                                          0.0                 1.0   \n",
       "3                                          0.0                 0.0   \n",
       "4                                          0.0                 0.0   \n",
       "...                                        ...                 ...   \n",
       "130022                                     0.0                 0.0   \n",
       "130023                                     0.0                 0.0   \n",
       "130024                                     0.0                 0.0   \n",
       "130025                                     0.0                 0.0   \n",
       "130026                                     0.0                 0.0   \n",
       "\n",
       "        main_topic_Topic 10  main_topic_Topic 2  main_topic_Topic 3  \\\n",
       "0                       0.0                 0.0                 0.0   \n",
       "1                       0.0                 0.0                 0.0   \n",
       "2                       0.0                 0.0                 0.0   \n",
       "3                       0.0                 0.0                 0.0   \n",
       "4                       0.0                 0.0                 0.0   \n",
       "...                     ...                 ...                 ...   \n",
       "130022                  1.0                 0.0                 0.0   \n",
       "130023                  0.0                 0.0                 0.0   \n",
       "130024                  0.0                 0.0                 0.0   \n",
       "130025                  0.0                 0.0                 0.0   \n",
       "130026                  1.0                 0.0                 0.0   \n",
       "\n",
       "        main_topic_Topic 4  main_topic_Topic 5  main_topic_Topic 6  \\\n",
       "0                      0.0                 0.0                 0.0   \n",
       "1                      0.0                 0.0                 0.0   \n",
       "2                      0.0                 0.0                 0.0   \n",
       "3                      0.0                 0.0                 1.0   \n",
       "4                      0.0                 0.0                 0.0   \n",
       "...                    ...                 ...                 ...   \n",
       "130022                 0.0                 0.0                 0.0   \n",
       "130023                 0.0                 0.0                 1.0   \n",
       "130024                 1.0                 0.0                 0.0   \n",
       "130025                 0.0                 0.0                 0.0   \n",
       "130026                 0.0                 0.0                 0.0   \n",
       "\n",
       "        main_topic_Topic 7  main_topic_Topic 8  main_topic_Topic 9  \n",
       "0                      1.0                 0.0                 0.0  \n",
       "1                      1.0                 0.0                 0.0  \n",
       "2                      0.0                 0.0                 0.0  \n",
       "3                      0.0                 0.0                 0.0  \n",
       "4                      0.0                 0.0                 1.0  \n",
       "...                    ...                 ...                 ...  \n",
       "130022                 0.0                 0.0                 0.0  \n",
       "130023                 0.0                 0.0                 0.0  \n",
       "130024                 0.0                 0.0                 0.0  \n",
       "130025                 0.0                 0.0                 1.0  \n",
       "130026                 0.0                 0.0                 0.0  \n",
       "\n",
       "[130027 rows x 18 columns]"
      ]
     },
     "execution_count": 17,
     "metadata": {},
     "output_type": "execute_result"
    }
   ],
   "source": [
    "# apply the encoder\n",
    "one_hot_encoder.categories_ # after we fit the encoder, the instance learns which values are present in each data column.\n",
    "encoded_names = one_hot_encoder.get_feature_names_out() # with this method we can retrieve the names of the new dummy columns that have been computed\n",
    "encoded_names\n",
    "\n",
    "encoded_categories = one_hot_encoder.transform(fitting_splits.train_set[['soortWoning_cleaned', 'main_topic']]).toarray() # at this point, we can use the fitted encoder to transform any array with a sex and marriage column; not just the training set, but also the validation or test set. The encoder will take that array of shape (M,2) and transform it to an array of shape (M, N), where N is the total number of distinct possible values for the encoded features. The values of the new array will be either 0 or 1, encoding whether that value of the feature applies to the row.\n",
    "df_encoded = pd.DataFrame(encoded_categories)\n",
    "df_encoded.columns = encoded_names\n",
    "df_encoded"
   ]
  },
  {
   "cell_type": "code",
   "execution_count": 18,
   "metadata": {},
   "outputs": [
    {
     "data": {
      "text/html": [
       "<div>\n",
       "<style scoped>\n",
       "    .dataframe tbody tr th:only-of-type {\n",
       "        vertical-align: middle;\n",
       "    }\n",
       "\n",
       "    .dataframe tbody tr th {\n",
       "        vertical-align: top;\n",
       "    }\n",
       "\n",
       "    .dataframe thead th {\n",
       "        text-align: right;\n",
       "    }\n",
       "</style>\n",
       "<table border=\"1\" class=\"dataframe\">\n",
       "  <thead>\n",
       "    <tr style=\"text-align: right;\">\n",
       "      <th></th>\n",
       "      <th>id</th>\n",
       "      <th>koopPrijs</th>\n",
       "      <th>bouwjaar</th>\n",
       "      <th>indTuin</th>\n",
       "      <th>aantalKamers</th>\n",
       "      <th>oppervlakte</th>\n",
       "      <th>Time_to_sell</th>\n",
       "      <th>postcode_prepared</th>\n",
       "      <th>soortWoning_cleaned_appartement</th>\n",
       "      <th>soortWoning_cleaned_benedenwoning</th>\n",
       "      <th>...</th>\n",
       "      <th>main_topic_Topic 1</th>\n",
       "      <th>main_topic_Topic 10</th>\n",
       "      <th>main_topic_Topic 2</th>\n",
       "      <th>main_topic_Topic 3</th>\n",
       "      <th>main_topic_Topic 4</th>\n",
       "      <th>main_topic_Topic 5</th>\n",
       "      <th>main_topic_Topic 6</th>\n",
       "      <th>main_topic_Topic 7</th>\n",
       "      <th>main_topic_Topic 8</th>\n",
       "      <th>main_topic_Topic 9</th>\n",
       "    </tr>\n",
       "  </thead>\n",
       "  <tbody>\n",
       "    <tr>\n",
       "      <th>0</th>\n",
       "      <td>3379</td>\n",
       "      <td>259500.0</td>\n",
       "      <td>2007</td>\n",
       "      <td>1</td>\n",
       "      <td>4</td>\n",
       "      <td>95</td>\n",
       "      <td>52</td>\n",
       "      <td>3234</td>\n",
       "      <td>0.0</td>\n",
       "      <td>0.0</td>\n",
       "      <td>...</td>\n",
       "      <td>0.0</td>\n",
       "      <td>0.0</td>\n",
       "      <td>0.0</td>\n",
       "      <td>0.0</td>\n",
       "      <td>0.0</td>\n",
       "      <td>0.0</td>\n",
       "      <td>0.0</td>\n",
       "      <td>1.0</td>\n",
       "      <td>0.0</td>\n",
       "      <td>0.0</td>\n",
       "    </tr>\n",
       "    <tr>\n",
       "      <th>1</th>\n",
       "      <td>54062</td>\n",
       "      <td>499500.0</td>\n",
       "      <td>1993</td>\n",
       "      <td>1</td>\n",
       "      <td>4</td>\n",
       "      <td>152</td>\n",
       "      <td>87</td>\n",
       "      <td>52149</td>\n",
       "      <td>0.0</td>\n",
       "      <td>0.0</td>\n",
       "      <td>...</td>\n",
       "      <td>0.0</td>\n",
       "      <td>0.0</td>\n",
       "      <td>0.0</td>\n",
       "      <td>0.0</td>\n",
       "      <td>0.0</td>\n",
       "      <td>0.0</td>\n",
       "      <td>0.0</td>\n",
       "      <td>1.0</td>\n",
       "      <td>0.0</td>\n",
       "      <td>0.0</td>\n",
       "    </tr>\n",
       "    <tr>\n",
       "      <th>2</th>\n",
       "      <td>209175</td>\n",
       "      <td>297500.0</td>\n",
       "      <td>1998</td>\n",
       "      <td>1</td>\n",
       "      <td>5</td>\n",
       "      <td>121</td>\n",
       "      <td>8</td>\n",
       "      <td>203331</td>\n",
       "      <td>0.0</td>\n",
       "      <td>0.0</td>\n",
       "      <td>...</td>\n",
       "      <td>1.0</td>\n",
       "      <td>0.0</td>\n",
       "      <td>0.0</td>\n",
       "      <td>0.0</td>\n",
       "      <td>0.0</td>\n",
       "      <td>0.0</td>\n",
       "      <td>0.0</td>\n",
       "      <td>0.0</td>\n",
       "      <td>0.0</td>\n",
       "      <td>0.0</td>\n",
       "    </tr>\n",
       "    <tr>\n",
       "      <th>3</th>\n",
       "      <td>70903</td>\n",
       "      <td>279000.0</td>\n",
       "      <td>1970</td>\n",
       "      <td>1</td>\n",
       "      <td>5</td>\n",
       "      <td>142</td>\n",
       "      <td>27</td>\n",
       "      <td>68627</td>\n",
       "      <td>0.0</td>\n",
       "      <td>0.0</td>\n",
       "      <td>...</td>\n",
       "      <td>0.0</td>\n",
       "      <td>0.0</td>\n",
       "      <td>0.0</td>\n",
       "      <td>0.0</td>\n",
       "      <td>0.0</td>\n",
       "      <td>0.0</td>\n",
       "      <td>1.0</td>\n",
       "      <td>0.0</td>\n",
       "      <td>0.0</td>\n",
       "      <td>0.0</td>\n",
       "    </tr>\n",
       "    <tr>\n",
       "      <th>4</th>\n",
       "      <td>10067</td>\n",
       "      <td>279000.0</td>\n",
       "      <td>1994</td>\n",
       "      <td>1</td>\n",
       "      <td>5</td>\n",
       "      <td>129</td>\n",
       "      <td>40</td>\n",
       "      <td>9578</td>\n",
       "      <td>0.0</td>\n",
       "      <td>0.0</td>\n",
       "      <td>...</td>\n",
       "      <td>0.0</td>\n",
       "      <td>0.0</td>\n",
       "      <td>0.0</td>\n",
       "      <td>0.0</td>\n",
       "      <td>0.0</td>\n",
       "      <td>0.0</td>\n",
       "      <td>0.0</td>\n",
       "      <td>0.0</td>\n",
       "      <td>0.0</td>\n",
       "      <td>1.0</td>\n",
       "    </tr>\n",
       "    <tr>\n",
       "      <th>...</th>\n",
       "      <td>...</td>\n",
       "      <td>...</td>\n",
       "      <td>...</td>\n",
       "      <td>...</td>\n",
       "      <td>...</td>\n",
       "      <td>...</td>\n",
       "      <td>...</td>\n",
       "      <td>...</td>\n",
       "      <td>...</td>\n",
       "      <td>...</td>\n",
       "      <td>...</td>\n",
       "      <td>...</td>\n",
       "      <td>...</td>\n",
       "      <td>...</td>\n",
       "      <td>...</td>\n",
       "      <td>...</td>\n",
       "      <td>...</td>\n",
       "      <td>...</td>\n",
       "      <td>...</td>\n",
       "      <td>...</td>\n",
       "      <td>...</td>\n",
       "    </tr>\n",
       "    <tr>\n",
       "      <th>130022</th>\n",
       "      <td>5020</td>\n",
       "      <td>550000.0</td>\n",
       "      <td>1976</td>\n",
       "      <td>1</td>\n",
       "      <td>5</td>\n",
       "      <td>255</td>\n",
       "      <td>297</td>\n",
       "      <td>4735</td>\n",
       "      <td>0.0</td>\n",
       "      <td>0.0</td>\n",
       "      <td>...</td>\n",
       "      <td>0.0</td>\n",
       "      <td>1.0</td>\n",
       "      <td>0.0</td>\n",
       "      <td>0.0</td>\n",
       "      <td>0.0</td>\n",
       "      <td>0.0</td>\n",
       "      <td>0.0</td>\n",
       "      <td>0.0</td>\n",
       "      <td>0.0</td>\n",
       "      <td>0.0</td>\n",
       "    </tr>\n",
       "    <tr>\n",
       "      <th>130023</th>\n",
       "      <td>39590</td>\n",
       "      <td>189500.0</td>\n",
       "      <td>1979</td>\n",
       "      <td>1</td>\n",
       "      <td>6</td>\n",
       "      <td>121</td>\n",
       "      <td>13</td>\n",
       "      <td>38034</td>\n",
       "      <td>0.0</td>\n",
       "      <td>0.0</td>\n",
       "      <td>...</td>\n",
       "      <td>0.0</td>\n",
       "      <td>0.0</td>\n",
       "      <td>0.0</td>\n",
       "      <td>0.0</td>\n",
       "      <td>0.0</td>\n",
       "      <td>0.0</td>\n",
       "      <td>1.0</td>\n",
       "      <td>0.0</td>\n",
       "      <td>0.0</td>\n",
       "      <td>0.0</td>\n",
       "    </tr>\n",
       "    <tr>\n",
       "      <th>130024</th>\n",
       "      <td>109599</td>\n",
       "      <td>285000.0</td>\n",
       "      <td>1927</td>\n",
       "      <td>0</td>\n",
       "      <td>5</td>\n",
       "      <td>123</td>\n",
       "      <td>29</td>\n",
       "      <td>106351</td>\n",
       "      <td>0.0</td>\n",
       "      <td>0.0</td>\n",
       "      <td>...</td>\n",
       "      <td>0.0</td>\n",
       "      <td>0.0</td>\n",
       "      <td>0.0</td>\n",
       "      <td>0.0</td>\n",
       "      <td>1.0</td>\n",
       "      <td>0.0</td>\n",
       "      <td>0.0</td>\n",
       "      <td>0.0</td>\n",
       "      <td>0.0</td>\n",
       "      <td>0.0</td>\n",
       "    </tr>\n",
       "    <tr>\n",
       "      <th>130025</th>\n",
       "      <td>28554</td>\n",
       "      <td>185000.0</td>\n",
       "      <td>1965</td>\n",
       "      <td>1</td>\n",
       "      <td>6</td>\n",
       "      <td>92</td>\n",
       "      <td>4</td>\n",
       "      <td>27336</td>\n",
       "      <td>0.0</td>\n",
       "      <td>0.0</td>\n",
       "      <td>...</td>\n",
       "      <td>0.0</td>\n",
       "      <td>0.0</td>\n",
       "      <td>0.0</td>\n",
       "      <td>0.0</td>\n",
       "      <td>0.0</td>\n",
       "      <td>0.0</td>\n",
       "      <td>0.0</td>\n",
       "      <td>0.0</td>\n",
       "      <td>0.0</td>\n",
       "      <td>1.0</td>\n",
       "    </tr>\n",
       "    <tr>\n",
       "      <th>130026</th>\n",
       "      <td>127775</td>\n",
       "      <td>175000.0</td>\n",
       "      <td>1961</td>\n",
       "      <td>1</td>\n",
       "      <td>5</td>\n",
       "      <td>78</td>\n",
       "      <td>39</td>\n",
       "      <td>123922</td>\n",
       "      <td>0.0</td>\n",
       "      <td>0.0</td>\n",
       "      <td>...</td>\n",
       "      <td>0.0</td>\n",
       "      <td>1.0</td>\n",
       "      <td>0.0</td>\n",
       "      <td>0.0</td>\n",
       "      <td>0.0</td>\n",
       "      <td>0.0</td>\n",
       "      <td>0.0</td>\n",
       "      <td>0.0</td>\n",
       "      <td>0.0</td>\n",
       "      <td>0.0</td>\n",
       "    </tr>\n",
       "  </tbody>\n",
       "</table>\n",
       "<p>130027 rows × 26 columns</p>\n",
       "</div>"
      ],
      "text/plain": [
       "            id  koopPrijs  bouwjaar  indTuin  aantalKamers  oppervlakte  \\\n",
       "0         3379   259500.0      2007        1             4           95   \n",
       "1        54062   499500.0      1993        1             4          152   \n",
       "2       209175   297500.0      1998        1             5          121   \n",
       "3        70903   279000.0      1970        1             5          142   \n",
       "4        10067   279000.0      1994        1             5          129   \n",
       "...        ...        ...       ...      ...           ...          ...   \n",
       "130022    5020   550000.0      1976        1             5          255   \n",
       "130023   39590   189500.0      1979        1             6          121   \n",
       "130024  109599   285000.0      1927        0             5          123   \n",
       "130025   28554   185000.0      1965        1             6           92   \n",
       "130026  127775   175000.0      1961        1             5           78   \n",
       "\n",
       "        Time_to_sell  postcode_prepared  soortWoning_cleaned_appartement  \\\n",
       "0                 52               3234                              0.0   \n",
       "1                 87              52149                              0.0   \n",
       "2                  8             203331                              0.0   \n",
       "3                 27              68627                              0.0   \n",
       "4                 40               9578                              0.0   \n",
       "...              ...                ...                              ...   \n",
       "130022           297               4735                              0.0   \n",
       "130023            13              38034                              0.0   \n",
       "130024            29             106351                              0.0   \n",
       "130025             4              27336                              0.0   \n",
       "130026            39             123922                              0.0   \n",
       "\n",
       "        soortWoning_cleaned_benedenwoning  ...  main_topic_Topic 1  \\\n",
       "0                                     0.0  ...                 0.0   \n",
       "1                                     0.0  ...                 0.0   \n",
       "2                                     0.0  ...                 1.0   \n",
       "3                                     0.0  ...                 0.0   \n",
       "4                                     0.0  ...                 0.0   \n",
       "...                                   ...  ...                 ...   \n",
       "130022                                0.0  ...                 0.0   \n",
       "130023                                0.0  ...                 0.0   \n",
       "130024                                0.0  ...                 0.0   \n",
       "130025                                0.0  ...                 0.0   \n",
       "130026                                0.0  ...                 0.0   \n",
       "\n",
       "        main_topic_Topic 10  main_topic_Topic 2  main_topic_Topic 3  \\\n",
       "0                       0.0                 0.0                 0.0   \n",
       "1                       0.0                 0.0                 0.0   \n",
       "2                       0.0                 0.0                 0.0   \n",
       "3                       0.0                 0.0                 0.0   \n",
       "4                       0.0                 0.0                 0.0   \n",
       "...                     ...                 ...                 ...   \n",
       "130022                  1.0                 0.0                 0.0   \n",
       "130023                  0.0                 0.0                 0.0   \n",
       "130024                  0.0                 0.0                 0.0   \n",
       "130025                  0.0                 0.0                 0.0   \n",
       "130026                  1.0                 0.0                 0.0   \n",
       "\n",
       "        main_topic_Topic 4  main_topic_Topic 5  main_topic_Topic 6  \\\n",
       "0                      0.0                 0.0                 0.0   \n",
       "1                      0.0                 0.0                 0.0   \n",
       "2                      0.0                 0.0                 0.0   \n",
       "3                      0.0                 0.0                 1.0   \n",
       "4                      0.0                 0.0                 0.0   \n",
       "...                    ...                 ...                 ...   \n",
       "130022                 0.0                 0.0                 0.0   \n",
       "130023                 0.0                 0.0                 1.0   \n",
       "130024                 1.0                 0.0                 0.0   \n",
       "130025                 0.0                 0.0                 0.0   \n",
       "130026                 0.0                 0.0                 0.0   \n",
       "\n",
       "        main_topic_Topic 7  main_topic_Topic 8  main_topic_Topic 9  \n",
       "0                      1.0                 0.0                 0.0  \n",
       "1                      1.0                 0.0                 0.0  \n",
       "2                      0.0                 0.0                 0.0  \n",
       "3                      0.0                 0.0                 0.0  \n",
       "4                      0.0                 0.0                 1.0  \n",
       "...                    ...                 ...                 ...  \n",
       "130022                 0.0                 0.0                 0.0  \n",
       "130023                 0.0                 0.0                 0.0  \n",
       "130024                 0.0                 0.0                 0.0  \n",
       "130025                 0.0                 0.0                 1.0  \n",
       "130026                 0.0                 0.0                 0.0  \n",
       "\n",
       "[130027 rows x 26 columns]"
      ]
     },
     "execution_count": 18,
     "metadata": {},
     "output_type": "execute_result"
    }
   ],
   "source": [
    "# dropping the non dummified woning column and the adding the dummified array to our training dataset\n",
    "train_set = fitting_splits.train_set.drop(['soortWoning_cleaned', 'main_topic'], axis=1)\n",
    "train_set = pd.concat([train_set, df_encoded], axis=1)\n",
    "train_set"
   ]
  },
  {
   "cell_type": "code",
   "execution_count": 19,
   "metadata": {},
   "outputs": [
    {
     "data": {
      "text/plain": [
       "StandardScaler()"
      ]
     },
     "execution_count": 19,
     "metadata": {},
     "output_type": "execute_result"
    }
   ],
   "source": [
    "# applying the scaler\n",
    "standard_scaler = StandardScaler()\n",
    "standard_scaler.fit(train_set)"
   ]
  },
  {
   "cell_type": "code",
   "execution_count": 20,
   "metadata": {},
   "outputs": [],
   "source": [
    "class DataPreparer(object):\n",
    "    def __init__(self, one_hot_encoder, standard_scaler):\n",
    "        self.one_hot_encoder = one_hot_encoder\n",
    "        self.standard_scaler = standard_scaler\n",
    "\n",
    "    def dummify(self, df):\n",
    "        vars_to_encode = ['soortWoning_cleaned', 'main_topic']\n",
    "        df_to_encode = df[vars_to_encode]\n",
    "        df_encoded = self.one_hot_encoder.transform(df_to_encode).toarray()\n",
    "        df_encoded = pd.DataFrame(df_encoded)\n",
    "        df_encoded.columns = self.one_hot_encoder.get_feature_names_out()\n",
    "        # add the encoded columns and drop the original columns\n",
    "        df = df.drop(vars_to_encode,axis=1)\n",
    "        df = pd.concat([df, df_encoded], axis=1)\n",
    "        return df\n",
    "\n",
    "    def scale(self, df):\n",
    "        cols = df.columns\n",
    "        df = self.standard_scaler.transform(df)\n",
    "        df = pd.DataFrame(df)\n",
    "        df.columns = cols\n",
    "        return df\n",
    "\n",
    "    def prepare_data(self, df):\n",
    "        df = df.reset_index(drop=True)\n",
    "        # first dummify the data\n",
    "        df = self.dummify(df)\n",
    "        # then scale it\n",
    "        df = self.scale(df)\n",
    "        return df"
   ]
  },
  {
   "cell_type": "code",
   "execution_count": 21,
   "metadata": {},
   "outputs": [
    {
     "data": {
      "text/html": [
       "<div>\n",
       "<style scoped>\n",
       "    .dataframe tbody tr th:only-of-type {\n",
       "        vertical-align: middle;\n",
       "    }\n",
       "\n",
       "    .dataframe tbody tr th {\n",
       "        vertical-align: top;\n",
       "    }\n",
       "\n",
       "    .dataframe thead th {\n",
       "        text-align: right;\n",
       "    }\n",
       "</style>\n",
       "<table border=\"1\" class=\"dataframe\">\n",
       "  <thead>\n",
       "    <tr style=\"text-align: right;\">\n",
       "      <th></th>\n",
       "      <th>id</th>\n",
       "      <th>koopPrijs</th>\n",
       "      <th>bouwjaar</th>\n",
       "      <th>indTuin</th>\n",
       "      <th>aantalKamers</th>\n",
       "      <th>oppervlakte</th>\n",
       "      <th>Time_to_sell</th>\n",
       "      <th>postcode_prepared</th>\n",
       "      <th>soortWoning_cleaned_appartement</th>\n",
       "      <th>soortWoning_cleaned_benedenwoning</th>\n",
       "      <th>...</th>\n",
       "      <th>main_topic_Topic 1</th>\n",
       "      <th>main_topic_Topic 10</th>\n",
       "      <th>main_topic_Topic 2</th>\n",
       "      <th>main_topic_Topic 3</th>\n",
       "      <th>main_topic_Topic 4</th>\n",
       "      <th>main_topic_Topic 5</th>\n",
       "      <th>main_topic_Topic 6</th>\n",
       "      <th>main_topic_Topic 7</th>\n",
       "      <th>main_topic_Topic 8</th>\n",
       "      <th>main_topic_Topic 9</th>\n",
       "    </tr>\n",
       "  </thead>\n",
       "  <tbody>\n",
       "    <tr>\n",
       "      <th>0</th>\n",
       "      <td>-1.686629</td>\n",
       "      <td>-0.299100</td>\n",
       "      <td>0.863974</td>\n",
       "      <td>0.635846</td>\n",
       "      <td>-0.423421</td>\n",
       "      <td>-0.512742</td>\n",
       "      <td>-0.157985</td>\n",
       "      <td>-1.680816</td>\n",
       "      <td>-0.502974</td>\n",
       "      <td>-0.08107</td>\n",
       "      <td>...</td>\n",
       "      <td>-0.488805</td>\n",
       "      <td>-0.463229</td>\n",
       "      <td>-0.174889</td>\n",
       "      <td>-0.241008</td>\n",
       "      <td>-0.414787</td>\n",
       "      <td>-0.317937</td>\n",
       "      <td>-0.278736</td>\n",
       "      <td>4.166558</td>\n",
       "      <td>-0.261392</td>\n",
       "      <td>-0.363641</td>\n",
       "    </tr>\n",
       "    <tr>\n",
       "      <th>1</th>\n",
       "      <td>-0.854824</td>\n",
       "      <td>0.889013</td>\n",
       "      <td>0.498305</td>\n",
       "      <td>0.635846</td>\n",
       "      <td>-0.423421</td>\n",
       "      <td>0.659789</td>\n",
       "      <td>0.334173</td>\n",
       "      <td>-0.856383</td>\n",
       "      <td>-0.502974</td>\n",
       "      <td>-0.08107</td>\n",
       "      <td>...</td>\n",
       "      <td>-0.488805</td>\n",
       "      <td>-0.463229</td>\n",
       "      <td>-0.174889</td>\n",
       "      <td>-0.241008</td>\n",
       "      <td>-0.414787</td>\n",
       "      <td>-0.317937</td>\n",
       "      <td>-0.278736</td>\n",
       "      <td>4.166558</td>\n",
       "      <td>-0.261392</td>\n",
       "      <td>-0.363641</td>\n",
       "    </tr>\n",
       "    <tr>\n",
       "      <th>2</th>\n",
       "      <td>1.690876</td>\n",
       "      <td>-0.110982</td>\n",
       "      <td>0.628901</td>\n",
       "      <td>0.635846</td>\n",
       "      <td>0.215296</td>\n",
       "      <td>0.022097</td>\n",
       "      <td>-0.776699</td>\n",
       "      <td>1.691699</td>\n",
       "      <td>-0.502974</td>\n",
       "      <td>-0.08107</td>\n",
       "      <td>...</td>\n",
       "      <td>2.045805</td>\n",
       "      <td>-0.463229</td>\n",
       "      <td>-0.174889</td>\n",
       "      <td>-0.241008</td>\n",
       "      <td>-0.414787</td>\n",
       "      <td>-0.317937</td>\n",
       "      <td>-0.278736</td>\n",
       "      <td>-0.240006</td>\n",
       "      <td>-0.261392</td>\n",
       "      <td>-0.363641</td>\n",
       "    </tr>\n",
       "    <tr>\n",
       "      <th>3</th>\n",
       "      <td>-0.578431</td>\n",
       "      <td>-0.202565</td>\n",
       "      <td>-0.102436</td>\n",
       "      <td>0.635846</td>\n",
       "      <td>0.215296</td>\n",
       "      <td>0.454082</td>\n",
       "      <td>-0.509527</td>\n",
       "      <td>-0.578656</td>\n",
       "      <td>-0.502974</td>\n",
       "      <td>-0.08107</td>\n",
       "      <td>...</td>\n",
       "      <td>-0.488805</td>\n",
       "      <td>-0.463229</td>\n",
       "      <td>-0.174889</td>\n",
       "      <td>-0.241008</td>\n",
       "      <td>-0.414787</td>\n",
       "      <td>-0.317937</td>\n",
       "      <td>3.587621</td>\n",
       "      <td>-0.240006</td>\n",
       "      <td>-0.261392</td>\n",
       "      <td>-0.363641</td>\n",
       "    </tr>\n",
       "    <tr>\n",
       "      <th>4</th>\n",
       "      <td>-1.576866</td>\n",
       "      <td>-0.202565</td>\n",
       "      <td>0.524424</td>\n",
       "      <td>0.635846</td>\n",
       "      <td>0.215296</td>\n",
       "      <td>0.186663</td>\n",
       "      <td>-0.326725</td>\n",
       "      <td>-1.573892</td>\n",
       "      <td>-0.502974</td>\n",
       "      <td>-0.08107</td>\n",
       "      <td>...</td>\n",
       "      <td>-0.488805</td>\n",
       "      <td>-0.463229</td>\n",
       "      <td>-0.174889</td>\n",
       "      <td>-0.241008</td>\n",
       "      <td>-0.414787</td>\n",
       "      <td>-0.317937</td>\n",
       "      <td>-0.278736</td>\n",
       "      <td>-0.240006</td>\n",
       "      <td>-0.261392</td>\n",
       "      <td>2.749963</td>\n",
       "    </tr>\n",
       "  </tbody>\n",
       "</table>\n",
       "<p>5 rows × 26 columns</p>\n",
       "</div>"
      ],
      "text/plain": [
       "         id  koopPrijs  bouwjaar   indTuin  aantalKamers  oppervlakte  \\\n",
       "0 -1.686629  -0.299100  0.863974  0.635846     -0.423421    -0.512742   \n",
       "1 -0.854824   0.889013  0.498305  0.635846     -0.423421     0.659789   \n",
       "2  1.690876  -0.110982  0.628901  0.635846      0.215296     0.022097   \n",
       "3 -0.578431  -0.202565 -0.102436  0.635846      0.215296     0.454082   \n",
       "4 -1.576866  -0.202565  0.524424  0.635846      0.215296     0.186663   \n",
       "\n",
       "   Time_to_sell  postcode_prepared  soortWoning_cleaned_appartement  \\\n",
       "0     -0.157985          -1.680816                        -0.502974   \n",
       "1      0.334173          -0.856383                        -0.502974   \n",
       "2     -0.776699           1.691699                        -0.502974   \n",
       "3     -0.509527          -0.578656                        -0.502974   \n",
       "4     -0.326725          -1.573892                        -0.502974   \n",
       "\n",
       "   soortWoning_cleaned_benedenwoning  ...  main_topic_Topic 1  \\\n",
       "0                           -0.08107  ...           -0.488805   \n",
       "1                           -0.08107  ...           -0.488805   \n",
       "2                           -0.08107  ...            2.045805   \n",
       "3                           -0.08107  ...           -0.488805   \n",
       "4                           -0.08107  ...           -0.488805   \n",
       "\n",
       "   main_topic_Topic 10  main_topic_Topic 2  main_topic_Topic 3  \\\n",
       "0            -0.463229           -0.174889           -0.241008   \n",
       "1            -0.463229           -0.174889           -0.241008   \n",
       "2            -0.463229           -0.174889           -0.241008   \n",
       "3            -0.463229           -0.174889           -0.241008   \n",
       "4            -0.463229           -0.174889           -0.241008   \n",
       "\n",
       "   main_topic_Topic 4  main_topic_Topic 5  main_topic_Topic 6  \\\n",
       "0           -0.414787           -0.317937           -0.278736   \n",
       "1           -0.414787           -0.317937           -0.278736   \n",
       "2           -0.414787           -0.317937           -0.278736   \n",
       "3           -0.414787           -0.317937            3.587621   \n",
       "4           -0.414787           -0.317937           -0.278736   \n",
       "\n",
       "   main_topic_Topic 7  main_topic_Topic 8  main_topic_Topic 9  \n",
       "0            4.166558           -0.261392           -0.363641  \n",
       "1            4.166558           -0.261392           -0.363641  \n",
       "2           -0.240006           -0.261392           -0.363641  \n",
       "3           -0.240006           -0.261392           -0.363641  \n",
       "4           -0.240006           -0.261392            2.749963  \n",
       "\n",
       "[5 rows x 26 columns]"
      ]
     },
     "execution_count": 21,
     "metadata": {},
     "output_type": "execute_result"
    },
    {
     "data": {
      "text/html": [
       "<div>\n",
       "<style scoped>\n",
       "    .dataframe tbody tr th:only-of-type {\n",
       "        vertical-align: middle;\n",
       "    }\n",
       "\n",
       "    .dataframe tbody tr th {\n",
       "        vertical-align: top;\n",
       "    }\n",
       "\n",
       "    .dataframe thead th {\n",
       "        text-align: right;\n",
       "    }\n",
       "</style>\n",
       "<table border=\"1\" class=\"dataframe\">\n",
       "  <thead>\n",
       "    <tr style=\"text-align: right;\">\n",
       "      <th></th>\n",
       "      <th>id</th>\n",
       "      <th>koopPrijs</th>\n",
       "      <th>bouwjaar</th>\n",
       "      <th>indTuin</th>\n",
       "      <th>aantalKamers</th>\n",
       "      <th>oppervlakte</th>\n",
       "      <th>Time_to_sell</th>\n",
       "      <th>postcode_prepared</th>\n",
       "      <th>soortWoning_cleaned_appartement</th>\n",
       "      <th>soortWoning_cleaned_benedenwoning</th>\n",
       "      <th>...</th>\n",
       "      <th>main_topic_Topic 1</th>\n",
       "      <th>main_topic_Topic 10</th>\n",
       "      <th>main_topic_Topic 2</th>\n",
       "      <th>main_topic_Topic 3</th>\n",
       "      <th>main_topic_Topic 4</th>\n",
       "      <th>main_topic_Topic 5</th>\n",
       "      <th>main_topic_Topic 6</th>\n",
       "      <th>main_topic_Topic 7</th>\n",
       "      <th>main_topic_Topic 8</th>\n",
       "      <th>main_topic_Topic 9</th>\n",
       "    </tr>\n",
       "  </thead>\n",
       "  <tbody>\n",
       "    <tr>\n",
       "      <th>0</th>\n",
       "      <td>-1.469023</td>\n",
       "      <td>-0.942661</td>\n",
       "      <td>-0.572581</td>\n",
       "      <td>0.635846</td>\n",
       "      <td>-1.062138</td>\n",
       "      <td>-0.512742</td>\n",
       "      <td>1.740340</td>\n",
       "      <td>-1.468535</td>\n",
       "      <td>-0.502974</td>\n",
       "      <td>-0.08107</td>\n",
       "      <td>...</td>\n",
       "      <td>2.045805</td>\n",
       "      <td>-0.463229</td>\n",
       "      <td>-0.174889</td>\n",
       "      <td>-0.241008</td>\n",
       "      <td>-0.414787</td>\n",
       "      <td>-0.317937</td>\n",
       "      <td>-0.278736</td>\n",
       "      <td>-0.240006</td>\n",
       "      <td>-0.261392</td>\n",
       "      <td>-0.363641</td>\n",
       "    </tr>\n",
       "    <tr>\n",
       "      <th>1</th>\n",
       "      <td>-1.520409</td>\n",
       "      <td>0.148918</td>\n",
       "      <td>-1.408394</td>\n",
       "      <td>0.635846</td>\n",
       "      <td>0.215296</td>\n",
       "      <td>-0.080757</td>\n",
       "      <td>-0.129862</td>\n",
       "      <td>-1.519638</td>\n",
       "      <td>-0.502974</td>\n",
       "      <td>-0.08107</td>\n",
       "      <td>...</td>\n",
       "      <td>-0.488805</td>\n",
       "      <td>2.158759</td>\n",
       "      <td>-0.174889</td>\n",
       "      <td>-0.241008</td>\n",
       "      <td>-0.414787</td>\n",
       "      <td>-0.317937</td>\n",
       "      <td>-0.278736</td>\n",
       "      <td>-0.240006</td>\n",
       "      <td>-0.261392</td>\n",
       "      <td>-0.363641</td>\n",
       "    </tr>\n",
       "    <tr>\n",
       "      <th>2</th>\n",
       "      <td>0.101120</td>\n",
       "      <td>-0.964938</td>\n",
       "      <td>-0.389746</td>\n",
       "      <td>-1.572707</td>\n",
       "      <td>-1.062138</td>\n",
       "      <td>-1.171004</td>\n",
       "      <td>-0.509527</td>\n",
       "      <td>0.102042</td>\n",
       "      <td>1.988176</td>\n",
       "      <td>-0.08107</td>\n",
       "      <td>...</td>\n",
       "      <td>-0.488805</td>\n",
       "      <td>-0.463229</td>\n",
       "      <td>-0.174889</td>\n",
       "      <td>-0.241008</td>\n",
       "      <td>2.410878</td>\n",
       "      <td>-0.317937</td>\n",
       "      <td>-0.278736</td>\n",
       "      <td>-0.240006</td>\n",
       "      <td>-0.261392</td>\n",
       "      <td>-0.363641</td>\n",
       "    </tr>\n",
       "    <tr>\n",
       "      <th>3</th>\n",
       "      <td>1.212846</td>\n",
       "      <td>-0.153061</td>\n",
       "      <td>0.655020</td>\n",
       "      <td>0.635846</td>\n",
       "      <td>0.854013</td>\n",
       "      <td>0.412940</td>\n",
       "      <td>-0.622020</td>\n",
       "      <td>1.213354</td>\n",
       "      <td>-0.502974</td>\n",
       "      <td>-0.08107</td>\n",
       "      <td>...</td>\n",
       "      <td>-0.488805</td>\n",
       "      <td>-0.463229</td>\n",
       "      <td>-0.174889</td>\n",
       "      <td>-0.241008</td>\n",
       "      <td>-0.414787</td>\n",
       "      <td>-0.317937</td>\n",
       "      <td>3.587621</td>\n",
       "      <td>-0.240006</td>\n",
       "      <td>-0.261392</td>\n",
       "      <td>-0.363641</td>\n",
       "    </tr>\n",
       "    <tr>\n",
       "      <th>4</th>\n",
       "      <td>1.393016</td>\n",
       "      <td>-0.853552</td>\n",
       "      <td>-1.016606</td>\n",
       "      <td>0.635846</td>\n",
       "      <td>-0.423421</td>\n",
       "      <td>-0.677307</td>\n",
       "      <td>0.910702</td>\n",
       "      <td>1.393746</td>\n",
       "      <td>-0.502974</td>\n",
       "      <td>-0.08107</td>\n",
       "      <td>...</td>\n",
       "      <td>2.045805</td>\n",
       "      <td>-0.463229</td>\n",
       "      <td>-0.174889</td>\n",
       "      <td>-0.241008</td>\n",
       "      <td>-0.414787</td>\n",
       "      <td>-0.317937</td>\n",
       "      <td>-0.278736</td>\n",
       "      <td>-0.240006</td>\n",
       "      <td>-0.261392</td>\n",
       "      <td>-0.363641</td>\n",
       "    </tr>\n",
       "  </tbody>\n",
       "</table>\n",
       "<p>5 rows × 26 columns</p>\n",
       "</div>"
      ],
      "text/plain": [
       "         id  koopPrijs  bouwjaar   indTuin  aantalKamers  oppervlakte  \\\n",
       "0 -1.469023  -0.942661 -0.572581  0.635846     -1.062138    -0.512742   \n",
       "1 -1.520409   0.148918 -1.408394  0.635846      0.215296    -0.080757   \n",
       "2  0.101120  -0.964938 -0.389746 -1.572707     -1.062138    -1.171004   \n",
       "3  1.212846  -0.153061  0.655020  0.635846      0.854013     0.412940   \n",
       "4  1.393016  -0.853552 -1.016606  0.635846     -0.423421    -0.677307   \n",
       "\n",
       "   Time_to_sell  postcode_prepared  soortWoning_cleaned_appartement  \\\n",
       "0      1.740340          -1.468535                        -0.502974   \n",
       "1     -0.129862          -1.519638                        -0.502974   \n",
       "2     -0.509527           0.102042                         1.988176   \n",
       "3     -0.622020           1.213354                        -0.502974   \n",
       "4      0.910702           1.393746                        -0.502974   \n",
       "\n",
       "   soortWoning_cleaned_benedenwoning  ...  main_topic_Topic 1  \\\n",
       "0                           -0.08107  ...            2.045805   \n",
       "1                           -0.08107  ...           -0.488805   \n",
       "2                           -0.08107  ...           -0.488805   \n",
       "3                           -0.08107  ...           -0.488805   \n",
       "4                           -0.08107  ...            2.045805   \n",
       "\n",
       "   main_topic_Topic 10  main_topic_Topic 2  main_topic_Topic 3  \\\n",
       "0            -0.463229           -0.174889           -0.241008   \n",
       "1             2.158759           -0.174889           -0.241008   \n",
       "2            -0.463229           -0.174889           -0.241008   \n",
       "3            -0.463229           -0.174889           -0.241008   \n",
       "4            -0.463229           -0.174889           -0.241008   \n",
       "\n",
       "   main_topic_Topic 4  main_topic_Topic 5  main_topic_Topic 6  \\\n",
       "0           -0.414787           -0.317937           -0.278736   \n",
       "1           -0.414787           -0.317937           -0.278736   \n",
       "2            2.410878           -0.317937           -0.278736   \n",
       "3           -0.414787           -0.317937            3.587621   \n",
       "4           -0.414787           -0.317937           -0.278736   \n",
       "\n",
       "   main_topic_Topic 7  main_topic_Topic 8  main_topic_Topic 9  \n",
       "0           -0.240006           -0.261392           -0.363641  \n",
       "1           -0.240006           -0.261392           -0.363641  \n",
       "2           -0.240006           -0.261392           -0.363641  \n",
       "3           -0.240006           -0.261392           -0.363641  \n",
       "4           -0.240006           -0.261392           -0.363641  \n",
       "\n",
       "[5 rows x 26 columns]"
      ]
     },
     "execution_count": 21,
     "metadata": {},
     "output_type": "execute_result"
    }
   ],
   "source": [
    "# applying one hot encoder and standard scaler and checking if it went correctly\n",
    "data_preparer = DataPreparer(one_hot_encoder, standard_scaler)\n",
    "data_preparer.prepare_data(fitting_splits.train_set).head()\n",
    "data_preparer.prepare_data(fitting_splits.validation_set).head()"
   ]
  },
  {
   "cell_type": "code",
   "execution_count": 22,
   "metadata": {},
   "outputs": [],
   "source": [
    "# create training sets, without the the target 'Time_to_sell' which is going to measure the buying price. The 'id' column is also taken out, as it has no additional value to the model.\n",
    "train_set_transformed = data_preparer.prepare_data(fitting_splits.train_set)\n",
    "X_train = train_set_transformed.drop(['Time_to_sell', 'id'], axis=1) # need to drop the target! otherwise data leakage\n",
    "y_train = fitting_splits.train_set['Time_to_sell'] # take it from the original untransformed dataset"
   ]
  },
  {
   "cell_type": "code",
   "execution_count": 23,
   "metadata": {},
   "outputs": [],
   "source": [
    "# now we can use the fitted random tree model to predict on the test dataset\n",
    "X_test = data_preparer.prepare_data(fitting_splits.test_set).drop(['Time_to_sell', 'id'], axis=1)\n",
    "y_test = fitting_splits.test_set['Time_to_sell']"
   ]
  },
  {
   "cell_type": "markdown",
   "metadata": {},
   "source": [
    "## Random forest model"
   ]
  },
  {
   "cell_type": "markdown",
   "metadata": {},
   "source": [
    "### Finding the most suitable hyperparameters for the Random Forest model"
   ]
  },
  {
   "cell_type": "code",
   "execution_count": 24,
   "metadata": {},
   "outputs": [
    {
     "name": "stdout",
     "output_type": "stream",
     "text": [
      "Parameters currently in use:\n",
      "\n",
      "{'bootstrap': True,\n",
      " 'ccp_alpha': 0.0,\n",
      " 'criterion': 'squared_error',\n",
      " 'max_depth': None,\n",
      " 'max_features': 'auto',\n",
      " 'max_leaf_nodes': None,\n",
      " 'max_samples': None,\n",
      " 'min_impurity_decrease': 0.0,\n",
      " 'min_samples_leaf': 1,\n",
      " 'min_samples_split': 2,\n",
      " 'min_weight_fraction_leaf': 0.0,\n",
      " 'n_estimators': 100,\n",
      " 'n_jobs': None,\n",
      " 'oob_score': False,\n",
      " 'random_state': 42,\n",
      " 'verbose': 0,\n",
      " 'warm_start': False}\n"
     ]
    }
   ],
   "source": [
    "# overview off all hyperparameters for the Random forest model\n",
    "rf = RandomForestRegressor(random_state = 42)\n",
    "print('Parameters currently in use:\\n')\n",
    "pprint(rf.get_params())"
   ]
  },
  {
   "cell_type": "code",
   "execution_count": 25,
   "metadata": {},
   "outputs": [
    {
     "name": "stdout",
     "output_type": "stream",
     "text": [
      "{'max_depth': [10, 20, 30, 40, 50], 'n_estimators': [50, 100, 150, 200]}\n"
     ]
    }
   ],
   "source": [
    "# creating a grid from the hypertuning parameters\n",
    "n_estimators = [int(x) for x in np.linspace(start = 50, stop = 200, num = 4)]\n",
    "max_depth = [int(x) for x in np.linspace(10, 50, num = 5)]\n",
    "random_grid = {'n_estimators': n_estimators,\n",
    "               'max_depth': max_depth}\n",
    "pprint(random_grid)"
   ]
  },
  {
   "cell_type": "markdown",
   "metadata": {},
   "source": [
    "### Training the Random Forest model"
   ]
  },
  {
   "cell_type": "code",
   "execution_count": 94,
   "metadata": {},
   "outputs": [
    {
     "name": "stdout",
     "output_type": "stream",
     "text": [
      "begin hypertuning\n",
      "fitting model for n_estimators: 50 and max_depth: 10\n",
      "fitting complete.\n",
      "fitting model for n_estimators: 50 and max_depth: 20\n",
      "fitting complete.\n",
      "fitting model for n_estimators: 50 and max_depth: 30\n",
      "fitting complete.\n",
      "fitting model for n_estimators: 50 and max_depth: 40\n",
      "fitting complete.\n",
      "fitting model for n_estimators: 50 and max_depth: 50\n",
      "fitting complete.\n",
      "fitting model for n_estimators: 100 and max_depth: 10\n",
      "fitting complete.\n",
      "fitting model for n_estimators: 100 and max_depth: 20\n",
      "fitting complete.\n",
      "fitting model for n_estimators: 100 and max_depth: 30\n",
      "fitting complete.\n",
      "fitting model for n_estimators: 100 and max_depth: 40\n",
      "fitting complete.\n",
      "fitting model for n_estimators: 100 and max_depth: 50\n",
      "fitting complete.\n",
      "fitting model for n_estimators: 150 and max_depth: 10\n",
      "fitting complete.\n",
      "fitting model for n_estimators: 150 and max_depth: 20\n",
      "fitting complete.\n",
      "fitting model for n_estimators: 150 and max_depth: 30\n",
      "fitting complete.\n",
      "fitting model for n_estimators: 150 and max_depth: 40\n",
      "fitting complete.\n",
      "fitting model for n_estimators: 150 and max_depth: 50\n",
      "fitting complete.\n",
      "fitting model for n_estimators: 200 and max_depth: 10\n",
      "fitting complete.\n",
      "fitting model for n_estimators: 200 and max_depth: 20\n",
      "fitting complete.\n",
      "fitting model for n_estimators: 200 and max_depth: 30\n",
      "fitting complete.\n",
      "fitting model for n_estimators: 200 and max_depth: 40\n",
      "fitting complete.\n",
      "fitting model for n_estimators: 200 and max_depth: 50\n",
      "fitting complete.\n"
     ]
    }
   ],
   "source": [
    "# defining the model\n",
    "def fit_RF_model(X_train, y_train, n, depth):\n",
    "    # create the model instance with the required parameters\n",
    "    simple_RF = RandomForestRegressor(random_state=1234, n_estimators=n, max_depth=depth)\n",
    "    # fit the model instance on X_train\n",
    "    simple_RF.fit(X=X_train, y=y_train)\n",
    "    return simple_RF\n",
    "\n",
    " # will hold the models fitted on train, for each hyperparameter combination\n",
    "fitted_models = []\n",
    "\n",
    "# train a model for each hyperparameter combination\n",
    "print(\"begin hypertuning\")\n",
    "for n in n_estimators:\n",
    "    for depth in max_depth:\n",
    "        # fit a model with the given hyperparameter values.\n",
    "        # A new model will be fitted for each loop cycle\n",
    "        print(f\"fitting model for n_estimators: {n} and max_depth: {depth}\")\n",
    "        fitted_model = fit_RF_model(X_train, y_train, n, depth)\n",
    "        print(f\"fitting complete.\")\n",
    "        # store the fitted model in the fitted_model list\n",
    "        fitted_models.append(fitted_model)\n"
   ]
  },
  {
   "cell_type": "code",
   "execution_count": 95,
   "metadata": {},
   "outputs": [
    {
     "data": {
      "text/plain": [
       "[RandomForestRegressor(max_depth=10, n_estimators=50, random_state=1234),\n",
       " RandomForestRegressor(max_depth=20, n_estimators=50, random_state=1234),\n",
       " RandomForestRegressor(max_depth=30, n_estimators=50, random_state=1234),\n",
       " RandomForestRegressor(max_depth=40, n_estimators=50, random_state=1234)]"
      ]
     },
     "execution_count": 95,
     "metadata": {},
     "output_type": "execute_result"
    }
   ],
   "source": [
    "# showing the first four models\n",
    "fitted_models[0:4]"
   ]
  },
  {
   "cell_type": "markdown",
   "metadata": {},
   "source": [
    "### Preparing the training & validation splits and defining our measurement score: mean absolute percentage error"
   ]
  },
  {
   "cell_type": "code",
   "execution_count": 96,
   "metadata": {},
   "outputs": [],
   "source": [
    "# define validation set and put train & validation sets together\n",
    "X_validation = data_preparer.prepare_data(fitting_splits.validation_set).drop(['Time_to_sell', 'id'], axis=1)\n",
    "y_validation = fitting_splits.validation_set['Time_to_sell']\n",
    "X_train_validation = pd.concat([X_train, X_validation])\n",
    "y_train_validation = pd.concat([y_train, fitting_splits.validation_set['Time_to_sell']])"
   ]
  },
  {
   "cell_type": "code",
   "execution_count": 97,
   "metadata": {},
   "outputs": [],
   "source": [
    "#Defining MAPE function\n",
    "def MAPE(Y_actual,Y_Predicted):\n",
    "    mape = np.mean(np.abs((Y_actual - Y_Predicted)/Y_actual))*100\n",
    "    return mape\n",
    "\n",
    "mape_scores = []\n",
    "#Run the different combinations of hyper parameters through the validation set\n",
    "for m in fitted_models:\n",
    "    y_hat = m.predict(X_validation)\n",
    "    mape_score = MAPE(y_validation, y_hat)\n",
    "    mape_scores.append(mape_score)"
   ]
  },
  {
   "cell_type": "code",
   "execution_count": 98,
   "metadata": {},
   "outputs": [
    {
     "data": {
      "text/plain": [
       "[159.85608925742454,\n",
       " 159.04067931255867,\n",
       " 165.02739505803115,\n",
       " 166.7513786811413,\n",
       " 166.69028234823153,\n",
       " 159.77279277844977,\n",
       " 158.74684586449484,\n",
       " 164.65827971572108,\n",
       " 166.2885925588035,\n",
       " 166.55583380280456,\n",
       " 159.86671959292795,\n",
       " 158.66735055383458,\n",
       " 164.1651328078837,\n",
       " 165.96167338695898,\n",
       " 166.25659888082117,\n",
       " 159.87436747366533,\n",
       " 158.71786878336343,\n",
       " 164.05205008580157,\n",
       " 165.86120017855404,\n",
       " 166.1479764434055]"
      ]
     },
     "execution_count": 98,
     "metadata": {},
     "output_type": "execute_result"
    }
   ],
   "source": [
    "#Showing the first 20 MAPE scores\n",
    "mape_scores[:20]"
   ]
  },
  {
   "cell_type": "markdown",
   "metadata": {},
   "source": [
    "### Selecting the best model and final outcome"
   ]
  },
  {
   "cell_type": "code",
   "execution_count": 99,
   "metadata": {},
   "outputs": [],
   "source": [
    "# find the best MAPE from the hypertuning\n",
    "max_mape_scores = max(mape_scores)\n",
    "best_model_index = mape_scores.index(max_mape_scores)\n",
    "best_model = fitted_models[best_model_index]"
   ]
  },
  {
   "cell_type": "code",
   "execution_count": 100,
   "metadata": {},
   "outputs": [
    {
     "name": "stdout",
     "output_type": "stream",
     "text": [
      "The best value of n estimators found is 50\n",
      "The best value of max depth is 40\n"
     ]
    }
   ],
   "source": [
    "# printing best parameters\n",
    "print(f\"The best value of n estimators found is {best_model.n_estimators}\")\n",
    "print(f\"The best value of max depth is {best_model.max_depth}\")"
   ]
  },
  {
   "cell_type": "code",
   "execution_count": 101,
   "metadata": {},
   "outputs": [
    {
     "data": {
      "text/plain": [
       "RandomForestRegressor(max_depth=40, n_estimators=50, random_state=1234)"
      ]
     },
     "execution_count": 101,
     "metadata": {},
     "output_type": "execute_result"
    }
   ],
   "source": [
    "# selecting model with best parameters, by training on the train+validation set\n",
    "selected_model = RandomForestRegressor(n_estimators = best_model.n_estimators, max_depth = best_model.max_depth, random_state=1234)\n",
    "selected_model.fit(X_train_validation, y_train_validation)"
   ]
  },
  {
   "cell_type": "code",
   "execution_count": 54,
   "metadata": {},
   "outputs": [
    {
     "name": "stdout",
     "output_type": "stream",
     "text": [
      "157.46337035550584\n"
     ]
    }
   ],
   "source": [
    "# predict on the test set with the fitted model to get the final performance measure\n",
    "X_test = data_preparer.prepare_data(fitting_splits.test_set).drop(['Time_to_sell', 'id'],axis=1)\n",
    "y_test = fitting_splits.test_set['Time_to_sell']\n",
    "\n",
    "y_hat_final = selected_model.predict(X_test)\n",
    "mape_score_final = MAPE(y_test, y_hat_final)\n",
    "print(mape_score_final)"
   ]
  },
  {
   "cell_type": "markdown",
   "metadata": {},
   "source": [
    "## Neural Network Modelling"
   ]
  },
  {
   "cell_type": "markdown",
   "metadata": {},
   "source": [
    "### Importing the libraries for the NN model"
   ]
  },
  {
   "cell_type": "code",
   "execution_count": 66,
   "metadata": {},
   "outputs": [
    {
     "name": "stdout",
     "output_type": "stream",
     "text": [
      "tensorflow: 2.8.0\n",
      "keras: 2.8.0\n"
     ]
    }
   ],
   "source": [
    "# importing libraries \n",
    "import tensorflow\n",
    "print('tensorflow: %s' % tensorflow.__version__)\n",
    "import keras\n",
    "print('keras: %s' % keras.__version__)\n",
    "from keras.models import Sequential\n",
    "from keras.layers import Dense\n",
    "#from keras.wrappers.scikit_learn import KerasRegressor\n",
    "from scikeras.wrappers import KerasRegressor \n",
    "import datetime"
   ]
  },
  {
   "cell_type": "markdown",
   "metadata": {},
   "source": [
    "### Determining the characteristics of the model"
   ]
  },
  {
   "cell_type": "code",
   "execution_count": 67,
   "metadata": {},
   "outputs": [
    {
     "name": "stdout",
     "output_type": "stream",
     "text": [
      "The number of neurons for the input layer must be: 24\n"
     ]
    }
   ],
   "source": [
    "# printing amount of neurons for the input layer\n",
    "print(f\"The number of neurons for the input layer must be: {X_train.shape[1]}\")"
   ]
  },
  {
   "cell_type": "code",
   "execution_count": 68,
   "metadata": {},
   "outputs": [],
   "source": [
    "# define the neural network model class instance\n",
    "simple_nn = Sequential()\n",
    "# set first layer ((input layer/2) + 2)\n",
    "simple_nn.add(Dense(14, input_dim=X_train.shape[1], activation='relu'))\n",
    "# set second layer\n",
    "simple_nn.add(Dense(14, activation='relu'))\n",
    "# add the output layer \n",
    "simple_nn.add(Dense(1))"
   ]
  },
  {
   "cell_type": "code",
   "execution_count": 69,
   "metadata": {},
   "outputs": [
    {
     "name": "stdout",
     "output_type": "stream",
     "text": [
      "Model: \"sequential_1\"\n",
      "_________________________________________________________________\n",
      " Layer (type)                Output Shape              Param #   \n",
      "=================================================================\n",
      " dense_3 (Dense)             (None, 14)                350       \n",
      "                                                                 \n",
      " dense_4 (Dense)             (None, 14)                210       \n",
      "                                                                 \n",
      " dense_5 (Dense)             (None, 1)                 15        \n",
      "                                                                 \n",
      "=================================================================\n",
      "Total params: 575\n",
      "Trainable params: 575\n",
      "Non-trainable params: 0\n",
      "_________________________________________________________________\n",
      "None\n"
     ]
    }
   ],
   "source": [
    "print(simple_nn.summary())"
   ]
  },
  {
   "cell_type": "code",
   "execution_count": 70,
   "metadata": {},
   "outputs": [],
   "source": [
    "# selecting MAPE as loss function for the regression problem\n",
    "simple_nn.compile(loss='mean_absolute_percentage_error', optimizer='adam', metrics=['mean_absolute_percentage_error'])"
   ]
  },
  {
   "cell_type": "code",
   "execution_count": 71,
   "metadata": {},
   "outputs": [
    {
     "data": {
      "text/plain": [
       "(130027, 24)"
      ]
     },
     "execution_count": 71,
     "metadata": {},
     "output_type": "execute_result"
    },
    {
     "data": {
      "text/plain": [
       "(130027,)"
      ]
     },
     "execution_count": 71,
     "metadata": {},
     "output_type": "execute_result"
    },
    {
     "data": {
      "text/plain": [
       "(32507, 24)"
      ]
     },
     "execution_count": 71,
     "metadata": {},
     "output_type": "execute_result"
    },
    {
     "data": {
      "text/plain": [
       "(32507,)"
      ]
     },
     "execution_count": 71,
     "metadata": {},
     "output_type": "execute_result"
    }
   ],
   "source": [
    "# checking shapes of arrays \n",
    "X_train.shape\n",
    "y_train.shape\n",
    "X_validation.shape\n",
    "y_validation.shape"
   ]
  },
  {
   "cell_type": "markdown",
   "metadata": {},
   "source": [
    "### Training the model"
   ]
  },
  {
   "cell_type": "code",
   "execution_count": null,
   "metadata": {},
   "outputs": [],
   "source": [
    "# running the model\n",
    "simple_nn.fit(X_train, y_train, epochs=150, batch_size = 32)"
   ]
  },
  {
   "cell_type": "code",
   "execution_count": null,
   "metadata": {},
   "outputs": [],
   "source": [
    "# see what information has been logged during the training process\n",
    "simple_nn.history.history.keys()\n",
    "\n",
    "# plot the training loss over epochs\n",
    "loss_df = pd.DataFrame(simple_nn.history.history['loss'])\n",
    "loss_df.columns = ['loss']\n",
    "loss_df = loss_df.assign(epoch = np.arange(1, 151)) \n",
    "\n",
    "y = loss_df['loss']\n",
    "x = loss_df['epoch']\n",
    "\n",
    "plt.scatter(x,y)\n",
    "plt.ylabel('Loss')\n",
    "plt.xlabel('Epoch')\n",
    "plt.show()"
   ]
  },
  {
   "cell_type": "code",
   "execution_count": 72,
   "metadata": {},
   "outputs": [
    {
     "name": "stdout",
     "output_type": "stream",
     "text": [
      "Epoch 1/15\n",
      "4064/4064 [==============================] - 8s 2ms/step - loss: 64.3982 - mean_absolute_percentage_error: 64.3982 - val_loss: 63.5557 - val_mean_absolute_percentage_error: 63.5557\n",
      "Epoch 2/15\n",
      "4064/4064 [==============================] - 9s 2ms/step - loss: 62.7158 - mean_absolute_percentage_error: 62.7158 - val_loss: 63.3618 - val_mean_absolute_percentage_error: 63.3618\n",
      "Epoch 3/15\n",
      "4064/4064 [==============================] - 8s 2ms/step - loss: 62.6309 - mean_absolute_percentage_error: 62.6309 - val_loss: 63.3532 - val_mean_absolute_percentage_error: 63.3532\n",
      "Epoch 4/15\n",
      "4064/4064 [==============================] - 9s 2ms/step - loss: 62.5736 - mean_absolute_percentage_error: 62.5736 - val_loss: 63.2743 - val_mean_absolute_percentage_error: 63.2743\n",
      "Epoch 5/15\n",
      "4064/4064 [==============================] - 9s 2ms/step - loss: 62.5403 - mean_absolute_percentage_error: 62.5403 - val_loss: 63.3414 - val_mean_absolute_percentage_error: 63.3414\n",
      "Epoch 6/15\n",
      "4064/4064 [==============================] - 9s 2ms/step - loss: 62.5159 - mean_absolute_percentage_error: 62.5159 - val_loss: 63.3916 - val_mean_absolute_percentage_error: 63.3916\n",
      "Epoch 7/15\n",
      "4064/4064 [==============================] - 7s 2ms/step - loss: 62.4980 - mean_absolute_percentage_error: 62.4980 - val_loss: 63.2756 - val_mean_absolute_percentage_error: 63.2756\n",
      "Epoch 8/15\n",
      "4064/4064 [==============================] - 7s 2ms/step - loss: 62.4678 - mean_absolute_percentage_error: 62.4678 - val_loss: 63.2835 - val_mean_absolute_percentage_error: 63.2835\n",
      "Epoch 9/15\n",
      "4064/4064 [==============================] - 7s 2ms/step - loss: 62.4593 - mean_absolute_percentage_error: 62.4593 - val_loss: 63.2228 - val_mean_absolute_percentage_error: 63.2228\n",
      "Epoch 10/15\n",
      "4064/4064 [==============================] - 7s 2ms/step - loss: 62.4415 - mean_absolute_percentage_error: 62.4415 - val_loss: 63.2780 - val_mean_absolute_percentage_error: 63.2780\n",
      "Epoch 11/15\n",
      "4064/4064 [==============================] - 7s 2ms/step - loss: 62.4304 - mean_absolute_percentage_error: 62.4304 - val_loss: 63.3242 - val_mean_absolute_percentage_error: 63.3242\n",
      "Epoch 12/15\n",
      "4064/4064 [==============================] - 7s 2ms/step - loss: 62.4000 - mean_absolute_percentage_error: 62.4000 - val_loss: 63.3131 - val_mean_absolute_percentage_error: 63.3131\n",
      "Epoch 13/15\n",
      "4064/4064 [==============================] - 7s 2ms/step - loss: 62.3899 - mean_absolute_percentage_error: 62.3899 - val_loss: 63.2620 - val_mean_absolute_percentage_error: 63.2620\n",
      "Epoch 14/15\n",
      "4064/4064 [==============================] - 7s 2ms/step - loss: 62.3809 - mean_absolute_percentage_error: 62.3809 - val_loss: 63.1355 - val_mean_absolute_percentage_error: 63.1355\n",
      "Epoch 15/15\n",
      "4064/4064 [==============================] - 8s 2ms/step - loss: 62.3621 - mean_absolute_percentage_error: 62.3621 - val_loss: 63.2984 - val_mean_absolute_percentage_error: 63.2984\n"
     ]
    },
    {
     "data": {
      "text/plain": [
       "<keras.callbacks.History at 0x1de0e127be0>"
      ]
     },
     "execution_count": 72,
     "metadata": {},
     "output_type": "execute_result"
    }
   ],
   "source": [
    "# running the model\n",
    "simple_nn.fit(X_train, y_train, epochs=250, batch_size = 32, validation_data=(X_validation, y_validation))"
   ]
  },
  {
   "cell_type": "code",
   "execution_count": 75,
   "metadata": {},
   "outputs": [
    {
     "data": {
      "text/plain": [
       "[<matplotlib.lines.Line2D at 0x1de0dda7c40>]"
      ]
     },
     "execution_count": 75,
     "metadata": {},
     "output_type": "execute_result"
    },
    {
     "data": {
      "text/plain": [
       "[<matplotlib.lines.Line2D at 0x1de0ddb4fa0>]"
      ]
     },
     "execution_count": 75,
     "metadata": {},
     "output_type": "execute_result"
    },
    {
     "data": {
      "text/plain": [
       "Text(0.5, 1.0, 'model loss')"
      ]
     },
     "execution_count": 75,
     "metadata": {},
     "output_type": "execute_result"
    },
    {
     "data": {
      "text/plain": [
       "Text(0, 0.5, 'loss')"
      ]
     },
     "execution_count": 75,
     "metadata": {},
     "output_type": "execute_result"
    },
    {
     "data": {
      "text/plain": [
       "Text(0.5, 0, 'epoch')"
      ]
     },
     "execution_count": 75,
     "metadata": {},
     "output_type": "execute_result"
    },
    {
     "data": {
      "text/plain": [
       "<matplotlib.legend.Legend at 0x1de0ddb4d30>"
      ]
     },
     "execution_count": 75,
     "metadata": {},
     "output_type": "execute_result"
    },
    {
     "data": {
      "image/png": "[encoded data removed]",
      "text/plain": [
       "<Figure size 432x288 with 1 Axes>"
      ]
     },
     "metadata": {
      "needs_background": "light"
     },
     "output_type": "display_data"
    }
   ],
   "source": [
    "# see what information has been logged during the training process\n",
    "plt.plot(simple_nn.history.history['loss'])\n",
    "plt.plot(simple_nn.history.history['val_loss'])\n",
    "plt.title('model loss')\n",
    "plt.ylabel('loss')\n",
    "plt.xlabel('epoch')\n",
    "plt.legend(['train', 'validation'], loc='upper right')\n",
    "plt.show()"
   ]
  },
  {
   "cell_type": "markdown",
   "metadata": {},
   "source": [
    "### Creating the model object and grid search"
   ]
  },
  {
   "cell_type": "code",
   "execution_count": 76,
   "metadata": {},
   "outputs": [],
   "source": [
    "# function that creates the model\n",
    "def create_model(neurons=1):\n",
    "    nn_model = Sequential()\n",
    "    nn_model.add(Dense(neurons, input_dim=X_train.shape[1], activation='relu'))\n",
    "    nn_model.add(Dense(neurons, activation='relu'))\n",
    "    nn_model.add(Dense(1))\n",
    "    nn_model.compile(loss='mean_absolute_percentage_error', optimizer='adam')\n",
    "    return nn_model\n",
    "\n",
    "seed = 1234\n",
    "np.random.seed(seed)\n",
    "\n",
    "model = KerasRegressor(build_fn=create_model, verbose=0, neurons=1)"
   ]
  },
  {
   "cell_type": "code",
   "execution_count": 83,
   "metadata": {},
   "outputs": [],
   "source": [
    "# define the grid search parameters\n",
    "batch_size = [32, 50]\n",
    "epochs = [100, 200]\n",
    "params_grid = dict(batch_size=batch_size, epochs=epochs)"
   ]
  },
  {
   "cell_type": "code",
   "execution_count": 84,
   "metadata": {},
   "outputs": [
    {
     "data": {
      "text/plain": [
       "{'batch_size': [32, 50], 'epochs': [100, 200]}"
      ]
     },
     "execution_count": 84,
     "metadata": {},
     "output_type": "execute_result"
    }
   ],
   "source": [
    "# showing parameter options\n",
    "params_grid"
   ]
  },
  {
   "cell_type": "code",
   "execution_count": 85,
   "metadata": {},
   "outputs": [
    {
     "name": "stderr",
     "output_type": "stream",
     "text": [
      "D:\\Users\\Joel\\anaconda3\\envs\\AI_assignment\\lib\\site-packages\\scikeras\\wrappers.py:289: UserWarning: ``build_fn`` will be renamed to ``model`` in a future release, at which point use of ``build_fn`` will raise an Error instead.\n",
      "  warnings.warn(\n"
     ]
    },
    {
     "name": "stdout",
     "output_type": "stream",
     "text": [
      "hypertuning with sklearn grid search for neural networks complete in 78.48 minutes\n"
     ]
    }
   ],
   "source": [
    "# performing the grid search\n",
    "start_time = datetime.datetime.now()\n",
    "grid_search_nn = GridSearchCV(estimator=model, param_grid=params_grid, n_jobs=-1)\n",
    "grid_search_nn = grid_search_nn.fit(X_train_validation, y_train_validation)\n",
    "end_time = datetime.datetime.now()\n",
    "print(f'hypertuning with sklearn grid search for neural networks complete in {round((end_time - start_time).seconds/60, 2)} minutes')"
   ]
  },
  {
   "cell_type": "markdown",
   "metadata": {},
   "source": [
    "### Selecting the best model and final outcome"
   ]
  },
  {
   "cell_type": "code",
   "execution_count": 93,
   "metadata": {},
   "outputs": [
    {
     "name": "stdout",
     "output_type": "stream",
     "text": [
      "The best parameter combination is: {'batch_size': 32, 'epochs': 200}\n"
     ]
    }
   ],
   "source": [
    "print(\"The best parameter combination is: {}\".format(grid_search_nn.best_params_))"
   ]
  },
  {
   "cell_type": "code",
   "execution_count": 88,
   "metadata": {},
   "outputs": [
    {
     "data": {
      "text/plain": [
       "<keras.callbacks.History at 0x1de0da69430>"
      ]
     },
     "execution_count": 88,
     "metadata": {},
     "output_type": "execute_result"
    }
   ],
   "source": [
    "# run the model with the train+validation set, with the best parameters of the grid search\n",
    "best_model = create_model(30)\n",
    "best_model.fit(X_train_validation, y_train_validation, epochs=200, batch_size=32, verbose=0)"
   ]
  },
  {
   "cell_type": "code",
   "execution_count": 89,
   "metadata": {},
   "outputs": [
    {
     "name": "stdout",
     "output_type": "stream",
     "text": [
      "The MAPE of the nn model is 0.6175993288011101\n"
     ]
    }
   ],
   "source": [
    "#calculating final MAPE score\n",
    "X_test = data_preparer.prepare_data(fitting_splits.test_set).drop(['Time_to_sell', 'id'],axis=1)\n",
    "y_test = fitting_splits.test_set['Time_to_sell']\n",
    "y_hat_test_nn = best_model.predict(X_test)\n",
    "print(\"The MAPE of the nn model is {}\".format(metrics.mean_absolute_percentage_error(y_test, y_hat_test_nn)))"
   ]
  },
  {
   "cell_type": "markdown",
   "metadata": {},
   "source": [
    "## Conclusion"
   ]
  },
  {
   "cell_type": "markdown",
   "metadata": {},
   "source": [
    "The goal of this assignment was to develop a machine learning model to predict both sales price and time to sell for housing data from Funda. In this project, two models are used to predict these outcomes: the random forest and neural network model. For both models, the best hyperparameters were searched and applied to determine the final accuracy measure of those models. As an accuracy measure the mean absolute percentage error (MAPE) has been used because it gives a clear number of how accurate it is. \n",
    "\n",
    "The random forest gave a final MAPE of 157.46% and the neural network model a MAPE of 61.75%. It can therefore be concluded that the neural network model is more accurate to predict the days between posting and sale. We feel that both of these results are still very high and are these models are therefore not recommended to be used when wanting to accurately predict the amount of days between posting and sale."
   ]
  }
 ],
 "metadata": {
  "interpreter": {
   "hash": "3b1827d4b6462cc460901af0bc0d075c933010817877a813d51f78a107cbf6e5"
  },
  "kernelspec": {
   "display_name": "Python 3.9.7 64-bit",
   "language": "python",
   "name": "python3"
  },
  "language_info": {
   "codemirror_mode": {
    "name": "ipython",
    "version": 3
   },
   "file_extension": ".py",
   "mimetype": "text/x-python",
   "name": "python",
   "nbconvert_exporter": "python",
   "pygments_lexer": "ipython3",
   "version": "3.8.12"
  },
  "orig_nbformat": 4
 },
 "nbformat": 4,
 "nbformat_minor": 2
}
